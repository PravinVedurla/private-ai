{
 "cells": [
  {
   "cell_type": "markdown",
   "metadata": {},
   "source": [
    "# Section: Securing Federated Learning\n",
    "\n",
    "- Lesson 1: Trusted Aggregator\n",
    "- Lesson 2: Intro to Additive Secret Sharing\n",
    "- Lesson 3: Intro to Fixed Precision Encoding\n",
    "- Lesson 4: Secret Sharing + Fixed Precision in PySyft\n",
    "- Final Project: Federated Learning wtih Encrypted Gradient Aggregation"
   ]
  },
  {
   "cell_type": "code",
   "execution_count": 1,
   "metadata": {
    "ExecuteTime": {
     "end_time": "2019-06-30T15:15:07.173114Z",
     "start_time": "2019-06-30T15:15:03.974460Z"
    }
   },
   "outputs": [
    {
     "name": "stderr",
     "output_type": "stream",
     "text": [
      "WARNING:tf_encrypted:Falling back to insecure randomness since the required custom op could not be found for the installed version of TensorFlow (1.13.1). Fix this by compiling custom ops.\n"
     ]
    }
   ],
   "source": [
    "import random\n",
    "import numpy as np\n",
    "\n",
    "from collections import OrderedDict\n",
    "\n",
    "import torch\n",
    "import torch.nn as nn\n",
    "import torch.nn.functional as F\n",
    "import torch.optim as optim\n",
    "import torch.distributions as dists\n",
    "import torch.utils.data as data\n",
    "\n",
    "import torchvision.datasets as datasets\n",
    "import torchvision.transforms as transforms\n",
    "\n",
    "import syft\n",
    "\n",
    "random.seed(0)\n",
    "np.random.seed(0)\n",
    "torch.manual_seed(0)\n",
    "\n",
    "hook = syft.TorchHook(torch)"
   ]
  },
  {
   "cell_type": "markdown",
   "metadata": {},
   "source": [
    "# Lesson: Federated Learning with a Trusted Aggregator\n",
    "\n",
    "In the last section, we learned how to train a model on a distributed dataset using Federated Learning. In particular, the last project aggregated gradients directly from one data owner to another. \n",
    "\n",
    "However, while in some cases it could be ideal to do this, what would be even better is to be able to choose a neutral third party to perform the aggregation.\n",
    "\n",
    "As it turns out, we can use the same tools we used previously to accomplish this."
   ]
  },
  {
   "cell_type": "markdown",
   "metadata": {},
   "source": [
    "# Project: Federated Learning with a Trusted Aggregator"
   ]
  },
  {
   "cell_type": "code",
   "execution_count": 2,
   "metadata": {
    "ExecuteTime": {
     "end_time": "2019-06-30T15:15:07.182034Z",
     "start_time": "2019-06-30T15:15:07.178029Z"
    }
   },
   "outputs": [],
   "source": [
    "n_workers = 30\n",
    "\n",
    "workers = [syft.VirtualWorker(hook, id=\"Worker:{:d}\".format(i)) for i in range(n_workers)]\n",
    "trusted_aggregator = syft.VirtualWorker(hook, id='Trusted Aggregator')"
   ]
  },
  {
   "cell_type": "code",
   "execution_count": 3,
   "metadata": {
    "ExecuteTime": {
     "end_time": "2019-06-30T15:15:15.570116Z",
     "start_time": "2019-06-30T15:15:07.184972Z"
    }
   },
   "outputs": [],
   "source": [
    "mnist_trainset = datasets.MNIST(root='./data', train=True, download=True, transform=transforms.ToTensor())\n",
    "mnist_testset  = datasets.MNIST(root='./data', train=False, download=True, transform=transforms.ToTensor())\n",
    "\n",
    "federated_mnist_trainset = mnist_trainset.federate(workers)"
   ]
  },
  {
   "cell_type": "code",
   "execution_count": 4,
   "metadata": {
    "ExecuteTime": {
     "end_time": "2019-06-30T15:15:15.583726Z",
     "start_time": "2019-06-30T15:15:15.572324Z"
    }
   },
   "outputs": [],
   "source": [
    "class MNISTClassifier(nn.Module):\n",
    "    def __init__(self):\n",
    "        super(MNISTClassifier, self).__init__()\n",
    "\n",
    "        # 1x28x28\n",
    "        self.conv0      = nn.Conv2d(1, 4, 3, padding=1)\n",
    "        self.maxpool0   = nn.MaxPool2d(2)\n",
    "        # 4x14x14\n",
    "        self.conv1      = nn.Conv2d(4, 6, 3, padding=1)\n",
    "        self.maxpool1   = nn.MaxPool2d(2)\n",
    "        # 6x 7x 7\n",
    "        self.conv2      = nn.Conv2d(6, 8, 3, padding=1)\n",
    "        self.maxpool2   = nn.MaxPool2d(2, padding=1)\n",
    "        # 8x 4x 4 = 128\n",
    "        self.fc         = nn.Linear(128, 10)\n",
    "\n",
    "        self.activation = nn.ReLU()\n",
    "        \n",
    "    def forward(self, x):\n",
    "        x = self.conv0(x)\n",
    "        x = self.activation(x)\n",
    "        x = self.maxpool0(x)\n",
    "        x = self.conv1(x)\n",
    "        x = self.activation(x)\n",
    "        x = self.maxpool1(x)\n",
    "        x = self.conv2(x)\n",
    "        x = self.activation(x)\n",
    "        x = self.maxpool2(x)\n",
    "        x = self.fc(x.view(-1, 128))\n",
    "        \n",
    "        return x\n",
    "\n",
    "\n",
    "model = MNISTClassifier()"
   ]
  },
  {
   "cell_type": "code",
   "execution_count": 5,
   "metadata": {
    "ExecuteTime": {
     "end_time": "2019-06-30T15:18:02.780108Z",
     "start_time": "2019-06-30T15:15:15.585710Z"
    },
    "scrolled": true
   },
   "outputs": [
    {
     "name": "stdout",
     "output_type": "stream",
     "text": [
      "Epoch 0:\n",
      "worker 29/29\n",
      "    Training Loss: 2.306910514831543\n",
      "    Training Accuracy: 0.08124999701976776\n",
      "Epoch 1:\n",
      "worker 29/29\n",
      "    Training Loss: 2.2990634441375732\n",
      "    Training Accuracy: 0.10104166716337204\n",
      "Epoch 2:\n",
      "worker 29/29\n",
      "    Training Loss: 2.2804172039031982\n",
      "    Training Accuracy: 0.22604165971279144\n",
      "Epoch 3:\n",
      "worker 29/29\n",
      "    Training Loss: 2.2394001483917236\n",
      "    Training Accuracy: 0.4260416626930237\n",
      "Epoch 4:\n",
      "worker 29/29\n",
      "    Training Loss: 2.1809535026550293\n",
      "    Training Accuracy: 0.36666667461395264\n",
      "Epoch 5:\n",
      "worker 29/29\n",
      "    Training Loss: 2.061296224594116\n",
      "    Training Accuracy: 0.4645833373069763\n",
      "Epoch 6:\n",
      "worker 29/29\n",
      "    Training Loss: 1.889341115951538\n",
      "    Training Accuracy: 0.47708332538604736\n",
      "Epoch 7:\n",
      "worker 29/29\n",
      "    Training Loss: 1.6500238180160522\n",
      "    Training Accuracy: 0.5583333373069763\n",
      "Epoch 8:\n",
      "worker 29/29\n",
      "    Training Loss: 1.3526575565338135\n",
      "    Training Accuracy: 0.5885416865348816\n",
      "Epoch 9:\n",
      "worker 29/29\n",
      "    Training Loss: 1.1131576299667358\n",
      "    Training Accuracy: 0.6875\n",
      "Epoch 10:\n",
      "worker 29/29\n",
      "    Training Loss: 1.099799394607544\n",
      "    Training Accuracy: 0.6239583492279053\n",
      "Epoch 11:\n",
      "worker 29/29\n",
      "    Training Loss: 0.9254631400108337\n",
      "    Training Accuracy: 0.6739583611488342\n",
      "Epoch 12:\n",
      "worker 29/29\n",
      "    Training Loss: 0.8539355397224426\n",
      "    Training Accuracy: 0.7083333134651184\n",
      "Epoch 13:\n",
      "worker 29/29\n",
      "    Training Loss: 0.8223675489425659\n",
      "    Training Accuracy: 0.7281249761581421\n",
      "Epoch 14:\n",
      "worker 29/29\n",
      "    Training Loss: 0.7094126343727112\n",
      "    Training Accuracy: 0.7749999761581421\n",
      "Epoch 15:\n",
      "worker 29/29\n",
      "    Training Loss: 0.6295483708381653\n",
      "    Training Accuracy: 0.8010416626930237\n",
      "Epoch 16:\n",
      "worker 29/29\n",
      "    Training Loss: 0.6094332337379456\n",
      "    Training Accuracy: 0.8083333373069763\n",
      "Epoch 17:\n",
      "worker 29/29\n",
      "    Training Loss: 0.5677691698074341\n",
      "    Training Accuracy: 0.815625011920929\n",
      "Epoch 18:\n",
      "worker 29/29\n",
      "    Training Loss: 0.5006192922592163\n",
      "    Training Accuracy: 0.8374999761581421\n",
      "Epoch 19:\n",
      "worker 29/29\n",
      "    Training Loss: 0.4674167335033417\n",
      "    Training Accuracy: 0.8416666388511658\n",
      "Epoch 20:\n",
      "worker 29/29\n",
      "    Training Loss: 0.4810832738876343\n",
      "    Training Accuracy: 0.8552083373069763\n",
      "Epoch 21:\n",
      "worker 29/29\n",
      "    Training Loss: 0.49461987614631653\n",
      "    Training Accuracy: 0.856249988079071\n",
      "Epoch 22:\n",
      "worker 29/29\n",
      "    Training Loss: 0.40729814767837524\n",
      "    Training Accuracy: 0.8770833611488342\n",
      "Epoch 23:\n",
      "worker 29/29\n",
      "    Training Loss: 0.4141417145729065\n",
      "    Training Accuracy: 0.8791666626930237\n",
      "Epoch 24:\n",
      "worker 29/29\n",
      "    Training Loss: 0.4117000699043274\n",
      "    Training Accuracy: 0.862500011920929\n",
      "Epoch 25:\n",
      "worker 29/29\n",
      "    Training Loss: 0.3724898397922516\n",
      "    Training Accuracy: 0.8791666626930237\n",
      "Epoch 26:\n",
      "worker 29/29\n",
      "    Training Loss: 0.30299901962280273\n",
      "    Training Accuracy: 0.90625\n",
      "Epoch 27:\n",
      "worker 29/29\n",
      "    Training Loss: 0.37549930810928345\n",
      "    Training Accuracy: 0.887499988079071\n",
      "Epoch 28:\n",
      "worker 29/29\n",
      "    Training Loss: 0.2808297276496887\n",
      "    Training Accuracy: 0.9083333611488342\n",
      "Epoch 29:\n",
      "worker 29/29\n",
      "    Training Loss: 0.32383012771606445\n",
      "    Training Accuracy: 0.893750011920929\n",
      "Epoch 30:\n",
      "worker 29/29\n",
      "    Training Loss: 0.35618171095848083\n",
      "    Training Accuracy: 0.8958333134651184\n",
      "Epoch 31:\n",
      "worker 29/29\n",
      "    Training Loss: 0.31999579071998596\n",
      "    Training Accuracy: 0.9145833253860474\n",
      "Epoch 32:\n",
      "worker 29/29\n",
      "    Training Loss: 0.28228190541267395\n",
      "    Training Accuracy: 0.9145833253860474\n",
      "Epoch 33:\n",
      "worker 29/29\n",
      "    Training Loss: 0.26455751061439514\n",
      "    Training Accuracy: 0.9229166507720947\n",
      "Epoch 34:\n",
      "worker 29/29\n",
      "    Training Loss: 0.2605666220188141\n",
      "    Training Accuracy: 0.925000011920929\n",
      "Epoch 35:\n",
      "worker 29/29\n",
      "    Training Loss: 0.2622615396976471\n",
      "    Training Accuracy: 0.9104166626930237\n",
      "Epoch 36:\n",
      "worker 29/29\n",
      "    Training Loss: 0.309091717004776\n",
      "    Training Accuracy: 0.9104166626930237\n",
      "Epoch 37:\n",
      "worker 29/29\n",
      "    Training Loss: 0.2479097843170166\n",
      "    Training Accuracy: 0.921875\n",
      "Epoch 38:\n",
      "worker 29/29\n",
      "    Training Loss: 0.2507575452327728\n",
      "    Training Accuracy: 0.9260416626930237\n",
      "Epoch 39:\n",
      "worker 29/29\n",
      "    Training Loss: 0.22448137402534485\n",
      "    Training Accuracy: 0.9270833134651184\n",
      "Epoch 40:\n",
      "worker 29/29\n",
      "    Training Loss: 0.2985013425350189\n",
      "    Training Accuracy: 0.9052083492279053\n",
      "Epoch 41:\n",
      "worker 29/29\n",
      "    Training Loss: 0.24619412422180176\n",
      "    Training Accuracy: 0.9260416626930237\n",
      "Epoch 42:\n",
      "worker 29/29\n",
      "    Training Loss: 0.21719200909137726\n",
      "    Training Accuracy: 0.9302083253860474\n",
      "Epoch 43:\n",
      "worker 29/29\n",
      "    Training Loss: 0.23145149648189545\n",
      "    Training Accuracy: 0.9281250238418579\n",
      "Epoch 44:\n",
      "worker 29/29\n",
      "    Training Loss: 0.2157333344221115\n",
      "    Training Accuracy: 0.9427083134651184\n",
      "Epoch 45:\n",
      "worker 29/29\n",
      "    Training Loss: 0.20896805822849274\n",
      "    Training Accuracy: 0.9354166388511658\n",
      "Epoch 46:\n",
      "worker 29/29\n",
      "    Training Loss: 0.18748876452445984\n",
      "    Training Accuracy: 0.9437500238418579\n",
      "Epoch 47:\n",
      "worker 29/29\n",
      "    Training Loss: 0.18548467755317688\n",
      "    Training Accuracy: 0.9479166865348816\n",
      "Epoch 48:\n",
      "worker 29/29\n",
      "    Training Loss: 0.2260051667690277\n",
      "    Training Accuracy: 0.925000011920929\n",
      "Epoch 49:\n",
      "worker 29/29\n",
      "    Training Loss: 0.18543680012226105\n",
      "    Training Accuracy: 0.9416666626930237\n"
     ]
    }
   ],
   "source": [
    "n_epochs   = 50\n",
    "lr         = 2e-2\n",
    "batch_size = 32\n",
    "\n",
    "optimizer = optim.Adam(model.parameters(), lr=lr)\n",
    "criterion = nn.CrossEntropyLoss(reduction='sum')\n",
    "\n",
    "stored_grads = OrderedDict((name, param.new_zeros(param.shape).send(trusted_aggregator)) for name, param in model.named_parameters())\n",
    "for i_epoch in range(n_epochs):\n",
    "    print(\"Epoch {:d}:\".format(i_epoch))\n",
    "    \n",
    "    optimizer.zero_grad()\n",
    "    model = model.send(syft.local_worker)\n",
    "    # Track the number of training examples in order to average the gradients later (+ additional stats)\n",
    "    instance_count = torch.tensor(0.).send(trusted_aggregator)\n",
    "    running_loss   = torch.tensor(0.).send(trusted_aggregator)\n",
    "    correct_count  = torch.tensor(0.).send(trusted_aggregator)\n",
    "    for i, worker in enumerate(workers):\n",
    "        print(\"worker {:d}/{:d}\".format(i, len(workers)-1), end='\\r')\n",
    "        model.move(worker)\n",
    "\n",
    "        dataset = federated_mnist_trainset.datasets[worker.id]\n",
    "        dataloader = data.DataLoader(dataset, batch_size=batch_size, shuffle=True)\n",
    "\n",
    "        imgs, labels = next(iter(dataloader))\n",
    "\n",
    "        preds = model(imgs)\n",
    "\n",
    "        loss = criterion(preds, labels)\n",
    "        loss.backward()\n",
    "        \n",
    "        current_instance_count = torch.tensor(imgs.shape[0]).send(worker)\n",
    "        current_loss           = loss.data.clone()\n",
    "        current_correct_count  = torch.sum(torch.eq(preds.data.argmax(dim=1), labels))\n",
    "        \n",
    "        model.move(trusted_aggregator)\n",
    "        current_instance_count.move(trusted_aggregator)\n",
    "        current_loss.move(trusted_aggregator)\n",
    "        current_correct_count.move(trusted_aggregator)\n",
    "\n",
    "        for name, param in model.named_parameters():\n",
    "            stored_grads[name].add_(param.grad)\n",
    "            param.grad.zero_()\n",
    "        instance_count.add_(current_instance_count)\n",
    "        running_loss.add_(current_loss)\n",
    "        correct_count.add_(current_correct_count)\n",
    "\n",
    "    for name, param in model.named_parameters():\n",
    "        param.grad.add_(torch.div(stored_grads[name], instance_count))\n",
    "        stored_grads[name].zero_()\n",
    "\n",
    "    model = model.get()\n",
    "\n",
    "    avg_loss     = running_loss.div_(instance_count).get().item()\n",
    "    avg_accuracy = correct_count.div_(instance_count).get().item()\n",
    "    \n",
    "    print()\n",
    "    print(\"    Training Loss:\", avg_loss)\n",
    "    print(\"    Training Accuracy:\", avg_accuracy)\n",
    "\n",
    "    optimizer.step()"
   ]
  },
  {
   "cell_type": "code",
   "execution_count": 6,
   "metadata": {
    "ExecuteTime": {
     "end_time": "2019-06-30T15:18:08.287632Z",
     "start_time": "2019-06-30T15:18:05.933156Z"
    }
   },
   "outputs": [
    {
     "name": "stdout",
     "output_type": "stream",
     "text": [
      "Batch 10/10\n",
      "Test Loss: 0.19153675537109374\n",
      "Test Accuracy: 0.9393\n"
     ]
    }
   ],
   "source": [
    "test_dataloader = data.DataLoader(mnist_testset, batch_size=1024)\n",
    "\n",
    "test_loss      = 0\n",
    "instance_count = 0\n",
    "correct_count  = 0\n",
    "with torch.no_grad():\n",
    "    for i, (imgs, labels) in enumerate(test_dataloader, 1):\n",
    "        print(\"Batch {:d}/{:d}\".format(i, len(test_dataloader)), end='\\r')\n",
    "        instance_count += imgs.size(0)\n",
    "\n",
    "        preds = model(imgs)\n",
    "\n",
    "        test_loss += criterion(preds, labels).item()\n",
    "        correct_count += (preds.argmax(dim=1) == labels).sum().item()\n",
    "\n",
    "print()\n",
    "print(\"Test Loss:\", test_loss / instance_count)\n",
    "print(\"Test Accuracy:\", correct_count / instance_count)"
   ]
  },
  {
   "cell_type": "markdown",
   "metadata": {},
   "source": [
    "# Lesson: Intro to Additive Secret Sharing\n",
    "\n",
    "While being able to have a trusted third party to perform the aggregation is certainly nice, in an ideal setting we wouldn't have to trust anyone at all. This is where Cryptography can provide an interesting alterantive. \n",
    "\n",
    "Specifically, we're going to be looking at a simple protocol for Secure Multi-Party Computation called Additive Secret Sharing. This protocol will allow multiple parties (of size 3 or more) to aggregate their gradients without the use of a trusted 3rd party to perform the aggregation. In other words, we can add 3 numbers together from 3 different people without anyone ever learning the inputs of any other actors.\n",
    "\n",
    "Let's start by considering the number 5, which we'll put into a varible x"
   ]
  },
  {
   "cell_type": "code",
   "execution_count": 13,
   "metadata": {},
   "outputs": [],
   "source": [
    "x = 5"
   ]
  },
  {
   "cell_type": "markdown",
   "metadata": {},
   "source": [
    "Let's say we wanted to SHARE the ownership of this number between two people, Alice and Bob. We could split this number into two shares, 2, and 3, and give one to Alice and one to Bob"
   ]
  },
  {
   "cell_type": "code",
   "execution_count": 14,
   "metadata": {},
   "outputs": [
    {
     "data": {
      "text/plain": [
       "5"
      ]
     },
     "execution_count": 14,
     "metadata": {},
     "output_type": "execute_result"
    }
   ],
   "source": [
    "bob_x_share = 2\n",
    "alice_x_share = 3\n",
    "\n",
    "decrypted_x = bob_x_share + alice_x_share\n",
    "decrypted_x"
   ]
  },
  {
   "cell_type": "markdown",
   "metadata": {},
   "source": [
    "Note that neither Bob nor Alice know the value of x. They only know the value of their own SHARE of x. Thus, the true value of X is hidden (i.e., encrypted). \n",
    "\n",
    "The truly amazing thing, however, is that Alice and Bob can still compute using this value! They can perform arithmetic over the hidden value! Let's say Bob and Alice wanted to multiply this value by 2! If each of them multiplied their respective share by 2, then the hidden number between them is also multiplied! Check it out!"
   ]
  },
  {
   "cell_type": "code",
   "execution_count": 15,
   "metadata": {},
   "outputs": [
    {
     "data": {
      "text/plain": [
       "10"
      ]
     },
     "execution_count": 15,
     "metadata": {},
     "output_type": "execute_result"
    }
   ],
   "source": [
    "bob_x_share = 2 * 2\n",
    "alice_x_share = 3 * 2\n",
    "\n",
    "decrypted_x = bob_x_share + alice_x_share\n",
    "decrypted_x"
   ]
  },
  {
   "cell_type": "markdown",
   "metadata": {},
   "source": [
    "This even works for addition between two shared values!!"
   ]
  },
  {
   "cell_type": "code",
   "execution_count": 16,
   "metadata": {},
   "outputs": [
    {
     "data": {
      "text/plain": [
       "12"
      ]
     },
     "execution_count": 16,
     "metadata": {},
     "output_type": "execute_result"
    }
   ],
   "source": [
    "# encrypted \"5\"\n",
    "bob_x_share = 2\n",
    "alice_x_share = 3\n",
    "\n",
    "# encrypted \"7\"\n",
    "bob_y_share = 5\n",
    "alice_y_share = 2\n",
    "\n",
    "# encrypted 5 + 7\n",
    "bob_z_share = bob_x_share + bob_y_share\n",
    "alice_z_share = alice_x_share + alice_y_share\n",
    "\n",
    "decrypted_z = bob_z_share + alice_z_share\n",
    "decrypted_z"
   ]
  },
  {
   "cell_type": "markdown",
   "metadata": {},
   "source": [
    "As you can see, we just added two numbers together while they were still encrypted!!!\n",
    "\n",
    "One small tweak - notice that since all our numbers are positive, it's possible for each share to reveal a little bit of information about the hidden value, namely, it's always greater than the share. Thus, if Bob has a share \"3\" then he knows that the encrypted value is at least 3.\n",
    "\n",
    "This would be quite bad, but can be solved through a simple fix. Decryption happens by summing all the shares together MODULUS some constant. I.e."
   ]
  },
  {
   "cell_type": "code",
   "execution_count": 17,
   "metadata": {},
   "outputs": [
    {
     "data": {
      "text/plain": [
       "23740629843736686616461"
      ]
     },
     "execution_count": 17,
     "metadata": {},
     "output_type": "execute_result"
    }
   ],
   "source": [
    "x = 5\n",
    "\n",
    "Q = 23740629843760239486723\n",
    "\n",
    "bob_x_share = 23552870267 # <- a random number\n",
    "alice_x_share = Q - bob_x_share + x\n",
    "alice_x_share"
   ]
  },
  {
   "cell_type": "code",
   "execution_count": 18,
   "metadata": {},
   "outputs": [
    {
     "data": {
      "text/plain": [
       "5"
      ]
     },
     "execution_count": 18,
     "metadata": {},
     "output_type": "execute_result"
    }
   ],
   "source": [
    "(bob_x_share + alice_x_share) % Q"
   ]
  },
  {
   "cell_type": "markdown",
   "metadata": {},
   "source": [
    "So now, as you can see, both shares are wildly larger than the number being shared, meaning that individual shares no longer leak this inforation. However, all the properties we discussed earlier still hold! (addition, encryption, decryption, etc.)"
   ]
  },
  {
   "cell_type": "markdown",
   "metadata": {},
   "source": [
    "# Project: Build Methods for Encrypt, Decrypt, and Add \n",
    "\n",
    "In this project, you must take the lessons we learned in the last section and write general methods for encrypt, decrypt, and add. Store shares for a variable in a tuple like so."
   ]
  },
  {
   "cell_type": "code",
   "execution_count": 19,
   "metadata": {},
   "outputs": [],
   "source": [
    "x_share = (2,5,7)"
   ]
  },
  {
   "cell_type": "markdown",
   "metadata": {},
   "source": [
    "Even though normally those shares would be distributed amongst several workers, you can store them in ordered tuples like this for now :)"
   ]
  },
  {
   "cell_type": "code",
   "execution_count": null,
   "metadata": {},
   "outputs": [],
   "source": [
    "# try this project here!"
   ]
  },
  {
   "cell_type": "code",
   "execution_count": null,
   "metadata": {},
   "outputs": [],
   "source": []
  },
  {
   "cell_type": "code",
   "execution_count": null,
   "metadata": {},
   "outputs": [],
   "source": []
  },
  {
   "cell_type": "code",
   "execution_count": null,
   "metadata": {},
   "outputs": [],
   "source": []
  },
  {
   "cell_type": "code",
   "execution_count": null,
   "metadata": {},
   "outputs": [],
   "source": []
  },
  {
   "cell_type": "markdown",
   "metadata": {},
   "source": [
    "# Lesson: Intro to Fixed Precision Encoding\n",
    "\n",
    "As you may remember, our goal is to aggregate gradients using this new Secret Sharing technique. However, the protocol we've just explored in the last section uses positive integers. However, our neural network weights are NOT integers. Instead, our weights are decimals (floating point numbers).\n",
    "\n",
    "Not a huge deal! We just need to use a fixed precision encoding, which lets us do computation over decimal numbers using integers!"
   ]
  },
  {
   "cell_type": "code",
   "execution_count": 25,
   "metadata": {},
   "outputs": [],
   "source": [
    "BASE=10\n",
    "PRECISION=4"
   ]
  },
  {
   "cell_type": "code",
   "execution_count": 26,
   "metadata": {},
   "outputs": [],
   "source": [
    "def encode(x):\n",
    "    return int((x * (BASE ** PRECISION)) % Q)\n",
    "\n",
    "def decode(x):\n",
    "    return (x if x <= Q/2 else x - Q) / BASE**PRECISION"
   ]
  },
  {
   "cell_type": "code",
   "execution_count": 27,
   "metadata": {},
   "outputs": [
    {
     "data": {
      "text/plain": [
       "35000"
      ]
     },
     "execution_count": 27,
     "metadata": {},
     "output_type": "execute_result"
    }
   ],
   "source": [
    "encode(3.5)"
   ]
  },
  {
   "cell_type": "code",
   "execution_count": 28,
   "metadata": {},
   "outputs": [
    {
     "data": {
      "text/plain": [
       "3.5"
      ]
     },
     "execution_count": 28,
     "metadata": {},
     "output_type": "execute_result"
    }
   ],
   "source": [
    "decode(35000)"
   ]
  },
  {
   "cell_type": "code",
   "execution_count": 29,
   "metadata": {},
   "outputs": [
    {
     "data": {
      "text/plain": [
       "7.8"
      ]
     },
     "execution_count": 29,
     "metadata": {},
     "output_type": "execute_result"
    }
   ],
   "source": [
    "x = encrypt(encode(5.5))\n",
    "y = encrypt(encode(2.3))\n",
    "z = add(x,y)\n",
    "decode(decrypt(z))"
   ]
  },
  {
   "cell_type": "markdown",
   "metadata": {},
   "source": [
    "# Lesson: Secret Sharing + Fixed Precision in PySyft\n",
    "\n",
    "While writing things from scratch is certainly educational, PySyft makes a great deal of this much easier for us through its abstractions."
   ]
  },
  {
   "cell_type": "code",
   "execution_count": 30,
   "metadata": {},
   "outputs": [],
   "source": [
    "bob = bob.clear_objects()\n",
    "alice = alice.clear_objects()\n",
    "secure_worker = secure_worker.clear_objects()"
   ]
  },
  {
   "cell_type": "code",
   "execution_count": 31,
   "metadata": {},
   "outputs": [],
   "source": [
    "x = th.tensor([1,2,3,4,5])"
   ]
  },
  {
   "cell_type": "markdown",
   "metadata": {},
   "source": [
    "### Secret Sharing Using PySyft\n",
    "\n",
    "We can share using the simple .share() method!"
   ]
  },
  {
   "cell_type": "code",
   "execution_count": 32,
   "metadata": {},
   "outputs": [],
   "source": [
    "x = x.share(bob, alice, secure_worker)"
   ]
  },
  {
   "cell_type": "code",
   "execution_count": 33,
   "metadata": {},
   "outputs": [
    {
     "data": {
      "text/plain": [
       "{35498656553: tensor([  10235770278698899, 1401398179551373756, 2277280072169145491,\n",
       "          636965538565031298,  913795591610271305])}"
      ]
     },
     "execution_count": 33,
     "metadata": {},
     "output_type": "execute_result"
    }
   ],
   "source": [
    "bob._objects"
   ]
  },
  {
   "cell_type": "markdown",
   "metadata": {},
   "source": [
    "and as you can see, Bob now has one of the shares of x! Furthermore, we can still call addition in this state, and PySyft will automatically perform the remote execution for us!"
   ]
  },
  {
   "cell_type": "code",
   "execution_count": 34,
   "metadata": {},
   "outputs": [],
   "source": [
    "y = x + x"
   ]
  },
  {
   "cell_type": "code",
   "execution_count": 35,
   "metadata": {},
   "outputs": [
    {
     "data": {
      "text/plain": [
       "(Wrapper)>[AdditiveSharingTensor]\n",
       "\t-> (Wrapper)>[PointerTensor | me:23637986557 -> bob:30254176063]\n",
       "\t-> (Wrapper)>[PointerTensor | me:18229131498 -> alice:75856222543]\n",
       "\t-> (Wrapper)>[PointerTensor | me:34301722959 -> secure_worker:75419815101]\n",
       "\t*crypto provider: me*"
      ]
     },
     "execution_count": 35,
     "metadata": {},
     "output_type": "execute_result"
    }
   ],
   "source": [
    "y"
   ]
  },
  {
   "cell_type": "code",
   "execution_count": 36,
   "metadata": {},
   "outputs": [
    {
     "data": {
      "text/plain": [
       "tensor([ 2,  4,  6,  8, 10])"
      ]
     },
     "execution_count": 36,
     "metadata": {},
     "output_type": "execute_result"
    }
   ],
   "source": [
    "y.get()"
   ]
  },
  {
   "cell_type": "markdown",
   "metadata": {},
   "source": [
    "### Fixed Precision using PySyft\n",
    "\n",
    "We can also convert a tensor to fixed precision using .fix_precision()"
   ]
  },
  {
   "cell_type": "code",
   "execution_count": 37,
   "metadata": {},
   "outputs": [],
   "source": [
    "x = th.tensor([0.1,0.2,0.3])"
   ]
  },
  {
   "cell_type": "code",
   "execution_count": 38,
   "metadata": {},
   "outputs": [
    {
     "data": {
      "text/plain": [
       "tensor([0.1000, 0.2000, 0.3000])"
      ]
     },
     "execution_count": 38,
     "metadata": {},
     "output_type": "execute_result"
    }
   ],
   "source": [
    "x"
   ]
  },
  {
   "cell_type": "code",
   "execution_count": 39,
   "metadata": {},
   "outputs": [],
   "source": [
    "x = x.fix_prec()"
   ]
  },
  {
   "cell_type": "code",
   "execution_count": 40,
   "metadata": {},
   "outputs": [
    {
     "data": {
      "text/plain": [
       "tensor([100, 200, 300])"
      ]
     },
     "execution_count": 40,
     "metadata": {},
     "output_type": "execute_result"
    }
   ],
   "source": [
    "x.child.child"
   ]
  },
  {
   "cell_type": "code",
   "execution_count": 41,
   "metadata": {},
   "outputs": [],
   "source": [
    "y = x + x"
   ]
  },
  {
   "cell_type": "code",
   "execution_count": 42,
   "metadata": {},
   "outputs": [
    {
     "data": {
      "text/plain": [
       "tensor([0.2000, 0.4000, 0.6000])"
      ]
     },
     "execution_count": 42,
     "metadata": {},
     "output_type": "execute_result"
    }
   ],
   "source": [
    "y = y.float_prec()\n",
    "y"
   ]
  },
  {
   "cell_type": "markdown",
   "metadata": {},
   "source": [
    "### Shared Fixed Precision\n",
    "\n",
    "And of course, we can combine the two!"
   ]
  },
  {
   "cell_type": "code",
   "execution_count": 43,
   "metadata": {},
   "outputs": [],
   "source": [
    "x = th.tensor([0.1, 0.2, 0.3])"
   ]
  },
  {
   "cell_type": "code",
   "execution_count": 44,
   "metadata": {},
   "outputs": [],
   "source": [
    "x = x.fix_prec().share(bob, alice, secure_worker)"
   ]
  },
  {
   "cell_type": "code",
   "execution_count": 45,
   "metadata": {},
   "outputs": [],
   "source": [
    "y = x + x"
   ]
  },
  {
   "cell_type": "code",
   "execution_count": 46,
   "metadata": {},
   "outputs": [
    {
     "data": {
      "text/plain": [
       "tensor([0.2000, 0.4000, 0.6000])"
      ]
     },
     "execution_count": 46,
     "metadata": {},
     "output_type": "execute_result"
    }
   ],
   "source": [
    "y.get().float_prec()"
   ]
  },
  {
   "cell_type": "markdown",
   "metadata": {},
   "source": [
    "Make sure to make the point that people can see the model averages in the clear."
   ]
  },
  {
   "cell_type": "code",
   "execution_count": null,
   "metadata": {},
   "outputs": [],
   "source": []
  },
  {
   "cell_type": "markdown",
   "metadata": {},
   "source": [
    "# Final Project: Federated Learning with Encrypted Gradient Aggregation"
   ]
  },
  {
   "cell_type": "code",
   "execution_count": null,
   "metadata": {},
   "outputs": [],
   "source": []
  },
  {
   "cell_type": "code",
   "execution_count": null,
   "metadata": {},
   "outputs": [],
   "source": []
  }
 ],
 "metadata": {
  "kernelspec": {
   "display_name": "Python 3",
   "language": "python",
   "name": "python3"
  },
  "language_info": {
   "codemirror_mode": {
    "name": "ipython",
    "version": 3
   },
   "file_extension": ".py",
   "mimetype": "text/x-python",
   "name": "python",
   "nbconvert_exporter": "python",
   "pygments_lexer": "ipython3",
   "version": "3.7.3"
  },
  "toc": {
   "base_numbering": 1,
   "nav_menu": {},
   "number_sections": true,
   "sideBar": true,
   "skip_h1_title": false,
   "title_cell": "Table of Contents",
   "title_sidebar": "Contents",
   "toc_cell": false,
   "toc_position": {},
   "toc_section_display": true,
   "toc_window_display": false
  }
 },
 "nbformat": 4,
 "nbformat_minor": 2
}
