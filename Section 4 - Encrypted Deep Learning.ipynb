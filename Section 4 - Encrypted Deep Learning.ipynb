{
 "cells": [
  {
   "cell_type": "markdown",
   "metadata": {},
   "source": [
    "# Section: Encrypted Deep Learning\n",
    "\n",
    "- Lesson: Reviewing Additive Secret Sharing\n",
    "- Lesson: Encrypted Subtraction and Public/Scalar Multiplication\n",
    "- Lesson: Encrypted Computation in PySyft\n",
    "- Project: Build an Encrypted Database\n",
    "- Lesson: Encrypted Deep Learning in PyTorch\n",
    "- Lesson: Encrypted Deep Learning in Keras\n",
    "- Final Project"
   ]
  },
  {
   "cell_type": "markdown",
   "metadata": {},
   "source": [
    "# Lesson: Reviewing Additive Secret Sharing\n",
    "\n",
    "_For more great information about SMPC protocols like this one, visit https://mortendahl.github.io. With permission, Morten's work directly inspired this first teaching segment._"
   ]
  },
  {
   "cell_type": "code",
   "execution_count": 1,
   "metadata": {
    "ExecuteTime": {
     "end_time": "2019-07-11T15:05:25.095436Z",
     "start_time": "2019-07-11T15:05:24.995634Z"
    }
   },
   "outputs": [],
   "source": [
    "import random\n",
    "import numpy as np\n",
    "\n",
    "BASE = 10\n",
    "\n",
    "PRECISION_INTEGRAL = 8\n",
    "PRECISION_FRACTIONAL = 8\n",
    "Q = 293973345475167247070445277780365744413\n",
    "\n",
    "PRECISION = PRECISION_INTEGRAL + PRECISION_FRACTIONAL\n",
    "\n",
    "assert(Q > BASE**PRECISION)\n",
    "\n",
    "def encode(rational):\n",
    "    upscaled = int(rational * BASE**PRECISION_FRACTIONAL)\n",
    "    field_element = upscaled % Q\n",
    "    return field_element\n",
    "\n",
    "def decode(field_element):\n",
    "    upscaled = field_element if field_element <= Q/2 else field_element - Q\n",
    "    rational = upscaled / BASE**PRECISION_FRACTIONAL\n",
    "    return rational\n",
    "\n",
    "def encrypt(secret):\n",
    "    first  = random.randrange(Q)\n",
    "    second = random.randrange(Q)\n",
    "    third  = (secret - first - second) % Q\n",
    "    return [first, second, third]\n",
    "\n",
    "def decrypt(sharing):\n",
    "    return sum(sharing) % Q\n",
    "\n",
    "def add(a, b):\n",
    "    c = list()\n",
    "    for i in range(len(a)):\n",
    "        c.append((a[i] + b[i]) % Q)\n",
    "    return tuple(c)"
   ]
  },
  {
   "cell_type": "code",
   "execution_count": 2,
   "metadata": {
    "ExecuteTime": {
     "end_time": "2019-07-11T15:05:25.109352Z",
     "start_time": "2019-07-11T15:05:25.098389Z"
    }
   },
   "outputs": [
    {
     "data": {
      "text/plain": [
       "[40077646724924128873381492968866835633,\n",
       " 9374835291417446082744758152360296387,\n",
       " 244520863458825672114319026659688612393]"
      ]
     },
     "execution_count": 2,
     "metadata": {},
     "output_type": "execute_result"
    }
   ],
   "source": [
    "x = encrypt(encode(5.5))\n",
    "x"
   ]
  },
  {
   "cell_type": "code",
   "execution_count": 3,
   "metadata": {
    "ExecuteTime": {
     "end_time": "2019-07-11T15:05:25.120323Z",
     "start_time": "2019-07-11T15:05:25.115364Z"
    }
   },
   "outputs": [
    {
     "data": {
      "text/plain": [
       "[117676205205812112639914884324599131269,\n",
       " 158009036002557149913135604810503231754,\n",
       " 18288104266797984517394788645493381389]"
      ]
     },
     "execution_count": 3,
     "metadata": {},
     "output_type": "execute_result"
    }
   ],
   "source": [
    "y = encrypt(encode(2.3))\n",
    "y"
   ]
  },
  {
   "cell_type": "code",
   "execution_count": 4,
   "metadata": {
    "ExecuteTime": {
     "end_time": "2019-07-11T15:05:25.172182Z",
     "start_time": "2019-07-11T15:05:25.167230Z"
    }
   },
   "outputs": [
    {
     "data": {
      "text/plain": [
       "(157753851930736241513296377293465966902,\n",
       " 167383871293974595995880362962863528141,\n",
       " 262808967725623656631713815305181993782)"
      ]
     },
     "execution_count": 4,
     "metadata": {},
     "output_type": "execute_result"
    }
   ],
   "source": [
    "z = add(x,y)\n",
    "z"
   ]
  },
  {
   "cell_type": "code",
   "execution_count": 5,
   "metadata": {
    "ExecuteTime": {
     "end_time": "2019-07-11T15:05:25.221054Z",
     "start_time": "2019-07-11T15:05:25.216067Z"
    }
   },
   "outputs": [
    {
     "data": {
      "text/plain": [
       "7.79999999"
      ]
     },
     "execution_count": 5,
     "metadata": {},
     "output_type": "execute_result"
    }
   ],
   "source": [
    "decode(decrypt(z))"
   ]
  },
  {
   "cell_type": "markdown",
   "metadata": {},
   "source": [
    "# Lesson: Encrypted Subtraction and Public/Scalar Multiplication"
   ]
  },
  {
   "cell_type": "code",
   "execution_count": 6,
   "metadata": {
    "ExecuteTime": {
     "end_time": "2019-07-11T15:05:25.356691Z",
     "start_time": "2019-07-11T15:05:25.352702Z"
    }
   },
   "outputs": [],
   "source": [
    "field = 23740629843760239486723"
   ]
  },
  {
   "cell_type": "code",
   "execution_count": 7,
   "metadata": {
    "ExecuteTime": {
     "end_time": "2019-07-11T15:05:25.409550Z",
     "start_time": "2019-07-11T15:05:25.406558Z"
    }
   },
   "outputs": [],
   "source": [
    "x = 5\n",
    "\n",
    "bob_x_share = 2372385723 # random number\n",
    "alices_x_share = field - bob_x_share + x"
   ]
  },
  {
   "cell_type": "code",
   "execution_count": 8,
   "metadata": {
    "ExecuteTime": {
     "end_time": "2019-07-11T15:05:25.465399Z",
     "start_time": "2019-07-11T15:05:25.460414Z"
    }
   },
   "outputs": [
    {
     "data": {
      "text/plain": [
       "5"
      ]
     },
     "execution_count": 8,
     "metadata": {},
     "output_type": "execute_result"
    }
   ],
   "source": [
    "(bob_x_share + alices_x_share) % field"
   ]
  },
  {
   "cell_type": "code",
   "execution_count": 9,
   "metadata": {
    "ExecuteTime": {
     "end_time": "2019-07-11T15:05:25.520252Z",
     "start_time": "2019-07-11T15:05:25.515292Z"
    }
   },
   "outputs": [],
   "source": [
    "field = 10\n",
    "\n",
    "x = 5\n",
    "\n",
    "bob_x_share = 8\n",
    "alice_x_share = field - bob_x_share + x\n",
    "\n",
    "y = 1\n",
    "\n",
    "bob_y_share = 9\n",
    "alice_y_share = field - bob_y_share + y"
   ]
  },
  {
   "cell_type": "code",
   "execution_count": 10,
   "metadata": {
    "ExecuteTime": {
     "end_time": "2019-07-11T15:05:25.572122Z",
     "start_time": "2019-07-11T15:05:25.567153Z"
    }
   },
   "outputs": [
    {
     "data": {
      "text/plain": [
       "4"
      ]
     },
     "execution_count": 10,
     "metadata": {},
     "output_type": "execute_result"
    }
   ],
   "source": [
    "((bob_x_share + alice_x_share) - (bob_y_share + alice_y_share)) % field"
   ]
  },
  {
   "cell_type": "code",
   "execution_count": 11,
   "metadata": {
    "ExecuteTime": {
     "end_time": "2019-07-11T15:05:25.621980Z",
     "start_time": "2019-07-11T15:05:25.617020Z"
    }
   },
   "outputs": [
    {
     "data": {
      "text/plain": [
       "4"
      ]
     },
     "execution_count": 11,
     "metadata": {},
     "output_type": "execute_result"
    }
   ],
   "source": [
    "((bob_x_share - bob_y_share) + (alice_x_share - alice_y_share)) % field"
   ]
  },
  {
   "cell_type": "code",
   "execution_count": 12,
   "metadata": {
    "ExecuteTime": {
     "end_time": "2019-07-11T15:05:25.674840Z",
     "start_time": "2019-07-11T15:05:25.669854Z"
    }
   },
   "outputs": [
    {
     "data": {
      "text/plain": [
       "26"
      ]
     },
     "execution_count": 12,
     "metadata": {},
     "output_type": "execute_result"
    }
   ],
   "source": [
    "bob_x_share + alice_x_share + bob_y_share + alice_y_share"
   ]
  },
  {
   "cell_type": "code",
   "execution_count": 13,
   "metadata": {
    "ExecuteTime": {
     "end_time": "2019-07-11T15:05:25.722736Z",
     "start_time": "2019-07-11T15:05:25.719744Z"
    }
   },
   "outputs": [],
   "source": [
    "bob_z_share = (bob_x_share - bob_y_share)\n",
    "alice_z_share = (alice_x_share - alice_y_share)"
   ]
  },
  {
   "cell_type": "code",
   "execution_count": 14,
   "metadata": {
    "ExecuteTime": {
     "end_time": "2019-07-11T15:05:25.775570Z",
     "start_time": "2019-07-11T15:05:25.770583Z"
    }
   },
   "outputs": [
    {
     "data": {
      "text/plain": [
       "4"
      ]
     },
     "execution_count": 14,
     "metadata": {},
     "output_type": "execute_result"
    }
   ],
   "source": [
    "(bob_z_share + alice_z_share) % field"
   ]
  },
  {
   "cell_type": "code",
   "execution_count": 15,
   "metadata": {
    "ExecuteTime": {
     "end_time": "2019-07-11T15:05:25.829463Z",
     "start_time": "2019-07-11T15:05:25.824465Z"
    }
   },
   "outputs": [],
   "source": [
    "def sub(a, b):\n",
    "    c = list()\n",
    "    for i in range(len(a)):\n",
    "        c.append((a[i] - b[i]) % Q)\n",
    "    return tuple(c)"
   ]
  },
  {
   "cell_type": "code",
   "execution_count": 16,
   "metadata": {
    "ExecuteTime": {
     "end_time": "2019-07-11T15:05:25.883283Z",
     "start_time": "2019-07-11T15:05:25.879293Z"
    }
   },
   "outputs": [],
   "source": [
    "field = 10\n",
    "\n",
    "x = 5\n",
    "\n",
    "bob_x_share = 8\n",
    "alice_x_share = field - bob_x_share + x\n",
    "\n",
    "y = 1\n",
    "\n",
    "bob_y_share = 9\n",
    "alice_y_share = field - bob_y_share + y"
   ]
  },
  {
   "cell_type": "code",
   "execution_count": 17,
   "metadata": {
    "ExecuteTime": {
     "end_time": "2019-07-11T15:05:25.934153Z",
     "start_time": "2019-07-11T15:05:25.930185Z"
    }
   },
   "outputs": [
    {
     "data": {
      "text/plain": [
       "15"
      ]
     },
     "execution_count": 17,
     "metadata": {},
     "output_type": "execute_result"
    }
   ],
   "source": [
    "bob_x_share + alice_x_share"
   ]
  },
  {
   "cell_type": "code",
   "execution_count": 18,
   "metadata": {
    "ExecuteTime": {
     "end_time": "2019-07-11T15:05:25.983024Z",
     "start_time": "2019-07-11T15:05:25.978054Z"
    }
   },
   "outputs": [
    {
     "data": {
      "text/plain": [
       "11"
      ]
     },
     "execution_count": 18,
     "metadata": {},
     "output_type": "execute_result"
    }
   ],
   "source": [
    "bob_y_share + alice_y_share"
   ]
  },
  {
   "cell_type": "code",
   "execution_count": 19,
   "metadata": {
    "ExecuteTime": {
     "end_time": "2019-07-11T15:05:26.030889Z",
     "start_time": "2019-07-11T15:05:26.024903Z"
    }
   },
   "outputs": [
    {
     "data": {
      "text/plain": [
       "3"
      ]
     },
     "execution_count": 19,
     "metadata": {},
     "output_type": "execute_result"
    }
   ],
   "source": [
    "((bob_y_share * 3) + (alice_y_share * 3)) % field"
   ]
  },
  {
   "cell_type": "code",
   "execution_count": 20,
   "metadata": {
    "ExecuteTime": {
     "end_time": "2019-07-11T15:05:26.087735Z",
     "start_time": "2019-07-11T15:05:26.082749Z"
    }
   },
   "outputs": [],
   "source": [
    "def imul(a, scalar):\n",
    "    \n",
    "    # logic here which can multiply by a public scalar\n",
    "    \n",
    "    c = list()\n",
    "    \n",
    "    for i in range(len(a)):\n",
    "        # Works without `% Q`\n",
    "        c.append((a[i] * scalar) % Q)\n",
    "        \n",
    "    return tuple(c)"
   ]
  },
  {
   "cell_type": "code",
   "execution_count": 21,
   "metadata": {
    "ExecuteTime": {
     "end_time": "2019-07-11T15:05:26.138625Z",
     "start_time": "2019-07-11T15:05:26.134609Z"
    }
   },
   "outputs": [
    {
     "data": {
      "text/plain": [
       "[27245081263251511360499411370538911412,\n",
       " 226493552975798874772170459951892264416,\n",
       " 40234711236116860937775406458484568585]"
      ]
     },
     "execution_count": 21,
     "metadata": {},
     "output_type": "execute_result"
    }
   ],
   "source": [
    "x = encrypt(encode(5.5))\n",
    "x"
   ]
  },
  {
   "cell_type": "code",
   "execution_count": 22,
   "metadata": {
    "ExecuteTime": {
     "end_time": "2019-07-11T15:05:26.190479Z",
     "start_time": "2019-07-11T15:05:26.186507Z"
    }
   },
   "outputs": [
    {
     "data": {
      "text/plain": [
       "(81735243789754534081498234111616734236,\n",
       " 91533967977062130175620824294945304422,\n",
       " 120704133708350582813326219375453705755)"
      ]
     },
     "execution_count": 22,
     "metadata": {},
     "output_type": "execute_result"
    }
   ],
   "source": [
    "z = imul(x, 3)\n",
    "z"
   ]
  },
  {
   "cell_type": "code",
   "execution_count": 23,
   "metadata": {
    "ExecuteTime": {
     "end_time": "2019-07-11T15:05:26.239355Z",
     "start_time": "2019-07-11T15:05:26.234382Z"
    }
   },
   "outputs": [
    {
     "data": {
      "text/plain": [
       "16.5"
      ]
     },
     "execution_count": 23,
     "metadata": {},
     "output_type": "execute_result"
    }
   ],
   "source": [
    "decode(decrypt(z))"
   ]
  },
  {
   "cell_type": "markdown",
   "metadata": {},
   "source": [
    "# Lesson: Encrypted Computation in PySyft"
   ]
  },
  {
   "cell_type": "code",
   "execution_count": 24,
   "metadata": {
    "ExecuteTime": {
     "end_time": "2019-07-11T15:05:29.283947Z",
     "start_time": "2019-07-11T15:05:26.426855Z"
    }
   },
   "outputs": [
    {
     "name": "stderr",
     "output_type": "stream",
     "text": [
      "WARNING:tf_encrypted:Falling back to insecure randomness since the required custom op could not be found for the installed version of TensorFlow. Fix this by compiling custom ops. Missing file was 'C:\\Users\\0107w\\Anaconda3\\envs\\secureai\\lib\\site-packages\\tf_encrypted/operations/secure_random/secure_random_module_tf_1.13.1.so'\n"
     ]
    }
   ],
   "source": [
    "import syft as sy\n",
    "import torch\n",
    "hook = sy.TorchHook(torch)\n",
    "from torch import nn, optim"
   ]
  },
  {
   "cell_type": "code",
   "execution_count": 25,
   "metadata": {
    "ExecuteTime": {
     "end_time": "2019-07-11T15:05:29.289914Z",
     "start_time": "2019-07-11T15:05:29.285889Z"
    }
   },
   "outputs": [],
   "source": [
    "bob = sy.VirtualWorker(hook, id=\"bob\").add_worker(sy.local_worker)\n",
    "alice = sy.VirtualWorker(hook, id=\"alice\").add_worker(sy.local_worker)\n",
    "secure_worker = sy.VirtualWorker(hook, id=\"secure_worker\").add_worker(sy.local_worker)"
   ]
  },
  {
   "cell_type": "code",
   "execution_count": 26,
   "metadata": {
    "ExecuteTime": {
     "end_time": "2019-07-11T15:05:29.305269Z",
     "start_time": "2019-07-11T15:05:29.292870Z"
    }
   },
   "outputs": [],
   "source": [
    "x = torch.tensor([1,2,3,4])\n",
    "y = torch.tensor([2,-1,1,0])"
   ]
  },
  {
   "cell_type": "code",
   "execution_count": 27,
   "metadata": {
    "ExecuteTime": {
     "end_time": "2019-07-11T15:05:29.315214Z",
     "start_time": "2019-07-11T15:05:29.308232Z"
    }
   },
   "outputs": [],
   "source": [
    "x = x.share(bob, alice, crypto_provider=secure_worker)"
   ]
  },
  {
   "cell_type": "code",
   "execution_count": 28,
   "metadata": {
    "ExecuteTime": {
     "end_time": "2019-07-11T15:05:29.324189Z",
     "start_time": "2019-07-11T15:05:29.317208Z"
    }
   },
   "outputs": [],
   "source": [
    "y = y.share(bob, alice, crypto_provider=secure_worker)"
   ]
  },
  {
   "cell_type": "code",
   "execution_count": 29,
   "metadata": {
    "ExecuteTime": {
     "end_time": "2019-07-11T15:05:29.335161Z",
     "start_time": "2019-07-11T15:05:29.326189Z"
    }
   },
   "outputs": [
    {
     "data": {
      "text/plain": [
       "tensor([3, 1, 4, 4])"
      ]
     },
     "execution_count": 29,
     "metadata": {},
     "output_type": "execute_result"
    }
   ],
   "source": [
    "z = x + y\n",
    "z.get()"
   ]
  },
  {
   "cell_type": "code",
   "execution_count": 30,
   "metadata": {
    "ExecuteTime": {
     "end_time": "2019-07-11T15:05:29.345134Z",
     "start_time": "2019-07-11T15:05:29.337155Z"
    }
   },
   "outputs": [
    {
     "data": {
      "text/plain": [
       "tensor([-1,  3,  2,  4])"
      ]
     },
     "execution_count": 30,
     "metadata": {},
     "output_type": "execute_result"
    }
   ],
   "source": [
    "z = x - y\n",
    "z.get()"
   ]
  },
  {
   "cell_type": "code",
   "execution_count": 31,
   "metadata": {
    "ExecuteTime": {
     "end_time": "2019-07-11T15:05:29.379072Z",
     "start_time": "2019-07-11T15:05:29.349124Z"
    }
   },
   "outputs": [
    {
     "data": {
      "text/plain": [
       "tensor([ 2, -2,  3,  0])"
      ]
     },
     "execution_count": 31,
     "metadata": {},
     "output_type": "execute_result"
    }
   ],
   "source": [
    "z = x * y\n",
    "z.get()"
   ]
  },
  {
   "cell_type": "code",
   "execution_count": 32,
   "metadata": {
    "ExecuteTime": {
     "end_time": "2019-07-11T15:05:29.510700Z",
     "start_time": "2019-07-11T15:05:29.383033Z"
    }
   },
   "outputs": [
    {
     "data": {
      "text/plain": [
       "tensor([0, 1, 1, 1])"
      ]
     },
     "execution_count": 32,
     "metadata": {},
     "output_type": "execute_result"
    }
   ],
   "source": [
    "z = x > y\n",
    "z.get()"
   ]
  },
  {
   "cell_type": "code",
   "execution_count": 33,
   "metadata": {
    "ExecuteTime": {
     "end_time": "2019-07-11T15:05:29.641343Z",
     "start_time": "2019-07-11T15:05:29.512688Z"
    }
   },
   "outputs": [
    {
     "data": {
      "text/plain": [
       "tensor([1, 0, 0, 0])"
      ]
     },
     "execution_count": 33,
     "metadata": {},
     "output_type": "execute_result"
    }
   ],
   "source": [
    "z = x < y\n",
    "z.get()"
   ]
  },
  {
   "cell_type": "code",
   "execution_count": 34,
   "metadata": {
    "ExecuteTime": {
     "end_time": "2019-07-11T15:05:29.784958Z",
     "start_time": "2019-07-11T15:05:29.643337Z"
    }
   },
   "outputs": [
    {
     "data": {
      "text/plain": [
       "tensor([0, 0, 0, 0])"
      ]
     },
     "execution_count": 34,
     "metadata": {},
     "output_type": "execute_result"
    }
   ],
   "source": [
    "z = x == y\n",
    "z.get()"
   ]
  },
  {
   "cell_type": "code",
   "execution_count": null,
   "metadata": {},
   "outputs": [],
   "source": []
  },
  {
   "cell_type": "code",
   "execution_count": 35,
   "metadata": {
    "ExecuteTime": {
     "end_time": "2019-07-11T15:05:29.795941Z",
     "start_time": "2019-07-11T15:05:29.786953Z"
    }
   },
   "outputs": [],
   "source": [
    "x = torch.tensor([1,2,3,4])\n",
    "y = torch.tensor([2,-1,1,0])\n",
    "\n",
    "x = x.fix_precision().share(bob, alice, crypto_provider=secure_worker)\n",
    "y = y.fix_precision().share(bob, alice, crypto_provider=secure_worker)"
   ]
  },
  {
   "cell_type": "code",
   "execution_count": 36,
   "metadata": {
    "ExecuteTime": {
     "end_time": "2019-07-11T15:05:29.808895Z",
     "start_time": "2019-07-11T15:05:29.798923Z"
    }
   },
   "outputs": [
    {
     "data": {
      "text/plain": [
       "tensor([3., 1., 4., 4.])"
      ]
     },
     "execution_count": 36,
     "metadata": {},
     "output_type": "execute_result"
    }
   ],
   "source": [
    "z = x + y\n",
    "z.get().float_precision()"
   ]
  },
  {
   "cell_type": "code",
   "execution_count": 37,
   "metadata": {
    "ExecuteTime": {
     "end_time": "2019-07-11T15:05:29.819866Z",
     "start_time": "2019-07-11T15:05:29.809891Z"
    }
   },
   "outputs": [
    {
     "data": {
      "text/plain": [
       "tensor([-1.,  3.,  2.,  4.])"
      ]
     },
     "execution_count": 37,
     "metadata": {},
     "output_type": "execute_result"
    }
   ],
   "source": [
    "z = x - y\n",
    "z.get().float_precision()"
   ]
  },
  {
   "cell_type": "code",
   "execution_count": 38,
   "metadata": {
    "ExecuteTime": {
     "end_time": "2019-07-11T15:05:29.848793Z",
     "start_time": "2019-07-11T15:05:29.821860Z"
    }
   },
   "outputs": [
    {
     "data": {
      "text/plain": [
       "tensor([ 2., -2.,  3.,  0.])"
      ]
     },
     "execution_count": 38,
     "metadata": {},
     "output_type": "execute_result"
    }
   ],
   "source": [
    "z = x * y\n",
    "z.get().float_precision()"
   ]
  },
  {
   "cell_type": "code",
   "execution_count": 39,
   "metadata": {
    "ExecuteTime": {
     "end_time": "2019-07-11T15:05:29.992402Z",
     "start_time": "2019-07-11T15:05:29.850782Z"
    }
   },
   "outputs": [
    {
     "data": {
      "text/plain": [
       "tensor([0., 1., 1., 1.])"
      ]
     },
     "execution_count": 39,
     "metadata": {},
     "output_type": "execute_result"
    }
   ],
   "source": [
    "z = x > y\n",
    "z.get().float_precision()"
   ]
  },
  {
   "cell_type": "code",
   "execution_count": 40,
   "metadata": {
    "ExecuteTime": {
     "end_time": "2019-07-11T15:05:30.106100Z",
     "start_time": "2019-07-11T15:05:29.993400Z"
    }
   },
   "outputs": [
    {
     "data": {
      "text/plain": [
       "tensor([1., 0., 0., 0.])"
      ]
     },
     "execution_count": 40,
     "metadata": {},
     "output_type": "execute_result"
    }
   ],
   "source": [
    "z = x < y\n",
    "z.get().float_precision()"
   ]
  },
  {
   "cell_type": "code",
   "execution_count": 41,
   "metadata": {
    "ExecuteTime": {
     "end_time": "2019-07-11T15:05:30.247722Z",
     "start_time": "2019-07-11T15:05:30.107096Z"
    }
   },
   "outputs": [
    {
     "data": {
      "text/plain": [
       "tensor([0., 0., 0., 0.])"
      ]
     },
     "execution_count": 41,
     "metadata": {},
     "output_type": "execute_result"
    }
   ],
   "source": [
    "z = x == y\n",
    "z.get().float_precision()"
   ]
  },
  {
   "cell_type": "markdown",
   "metadata": {},
   "source": [
    "# Project: Build an Encrypted Database"
   ]
  },
  {
   "cell_type": "code",
   "execution_count": 42,
   "metadata": {
    "ExecuteTime": {
     "end_time": "2019-07-11T15:05:30.253720Z",
     "start_time": "2019-07-11T15:05:30.249716Z"
    }
   },
   "outputs": [],
   "source": [
    "import string"
   ]
  },
  {
   "cell_type": "code",
   "execution_count": 43,
   "metadata": {
    "ExecuteTime": {
     "end_time": "2019-07-11T15:05:30.261683Z",
     "start_time": "2019-07-11T15:05:30.255700Z"
    }
   },
   "outputs": [],
   "source": [
    "char2int = {}\n",
    "int2char = {}\n",
    "\n",
    "for i, c in enumerate(' ' + string.ascii_lowercase + string.digits + string.punctuation):\n",
    "    char2int[c] = i\n",
    "    int2char[i] = c"
   ]
  },
  {
   "cell_type": "code",
   "execution_count": 44,
   "metadata": {
    "ExecuteTime": {
     "end_time": "2019-07-11T15:05:30.271657Z",
     "start_time": "2019-07-11T15:05:30.263678Z"
    }
   },
   "outputs": [],
   "source": [
    "def string2tensor(str_input, max_len=None, padding_char=' ', one_hot=True, dtype=torch.int64):\n",
    "    assert (max_len is None) or (isinstance(max_len, int) and max_len >= 0)\n",
    "    assert isinstance(padding_char, str) and (len(padding_char) == 1)\n",
    "\n",
    "    str_input = str_input.lower()\n",
    "    if max_len:\n",
    "        if len(str_input) >= max_len:\n",
    "            str_input = str_input[:max_len]\n",
    "        else:\n",
    "            str_input = str_input + padding_char * (max_len - len(str_input))\n",
    "            \n",
    "    ints = [char2int[c] for c in str_input]\n",
    "    \n",
    "    if one_hot:\n",
    "        tensor = torch.zeros(len(str_input), len(char2int), dtype=dtype)\n",
    "        tensor[torch.arange(len(str_input), dtype=torch.long), ints] = 1\n",
    "    else:\n",
    "        tensor = torch.tensor(ints, dtype=dtype)\n",
    "    \n",
    "    return tensor"
   ]
  },
  {
   "cell_type": "code",
   "execution_count": 45,
   "metadata": {
    "ExecuteTime": {
     "end_time": "2019-07-11T15:05:30.288612Z",
     "start_time": "2019-07-11T15:05:30.273669Z"
    }
   },
   "outputs": [],
   "source": [
    "class EncryptedStringDB(object):\n",
    "    \n",
    "    def __init__(self, *owners, max_key_len=8, max_value_len=8, padding_char=' '):\n",
    "        assert len(owners) > 0\n",
    "\n",
    "        self.owners        = owners\n",
    "        self.max_key_len   = max_key_len\n",
    "        self.max_value_len = max_value_len\n",
    "        self.padding_char  = padding_char\n",
    "        \n",
    "        self.keys   = []\n",
    "        self.values = []\n",
    "    \n",
    "    def add_entry(self, key, value):\n",
    "        assert isinstance(key, str)\n",
    "        assert isinstance(value, str)\n",
    "        \n",
    "        key_tensor   = string2tensor(key, self.max_key_len, self.padding_char, one_hot=True, dtype=torch.int64).share(*self.owners)\n",
    "\n",
    "        if (len(self.keys) != 0) and sum([key_match for key_match in self._find_key_matches(key_tensor)]).get().item() == 1:\n",
    "            raise NotImplementedError('adding an already existing key is not supported')\n",
    "        \n",
    "        value_tensor = string2tensor(value, self.max_value_len, self.padding_char, one_hot=False, dtype=torch.int64).share(*self.owners)\n",
    "        \n",
    "        self.keys.append(key_tensor)\n",
    "        self.values.append(value_tensor)\n",
    "    \n",
    "    def query(self, query_str):\n",
    "        assert isinstance(query_str, str)\n",
    "        \n",
    "        query_matrix = string2tensor(query_str, self.max_key_len, one_hot=True, dtype=torch.int64)\n",
    "        query_matrix = query_matrix.share(*self.owners)\n",
    "        \n",
    "        key_matches = self._find_key_matches(query_matrix)\n",
    "        \n",
    "        if sum([key_match.clone() for key_match in key_matches]).get().item() == 0:\n",
    "            raise KeyError('no match found for the query \\'{}\\''.format(query_str))\n",
    "        \n",
    "        result = torch.stack([key_match * value for key_match, value in zip(key_matches, self.values)]).sum(0)\n",
    "\n",
    "        result = result.get()\n",
    "        \n",
    "        result_str = ''.join([int2char[int(char_int)] for char_int in result])\n",
    "        \n",
    "        return result_str\n",
    "    \n",
    "    def _find_key_matches(self, query_matrix):\n",
    "        key_matches = []\n",
    "        \n",
    "        for key in self.keys:\n",
    "            match_vec = (key * query_matrix).sum(1)\n",
    "            \n",
    "            x = match_vec[0]\n",
    "            for idx in range(1, len(match_vec)):\n",
    "                x = x * match_vec[idx]\n",
    "                \n",
    "            key_matches.append(x)\n",
    "        \n",
    "        return key_matches\n",
    "    \n",
    "    __getitem__ = query\n",
    "    __setitem__ = add_entry"
   ]
  },
  {
   "cell_type": "code",
   "execution_count": 46,
   "metadata": {
    "ExecuteTime": {
     "end_time": "2019-07-11T15:05:30.298588Z",
     "start_time": "2019-07-11T15:05:30.294596Z"
    }
   },
   "outputs": [],
   "source": [
    "db = EncryptedStringDB(bob, alice, secure_worker)"
   ]
  },
  {
   "cell_type": "code",
   "execution_count": 47,
   "metadata": {
    "ExecuteTime": {
     "end_time": "2019-07-11T15:05:30.868206Z",
     "start_time": "2019-07-11T15:05:30.302575Z"
    }
   },
   "outputs": [],
   "source": [
    "# db.add_entry(\"bob\", \"tjdnf175\")\n",
    "# db.add_entry(\"alice\", \"tkfka175\")\n",
    "# db.add_entry(\"sec_work\", \"insecure\")\n",
    "db[\"bob\"] = \"tjdnf175\"\n",
    "db[\"alice\"] = \"tkfka175\"\n",
    "db[\"sec_work\"] = \"insecure\""
   ]
  },
  {
   "cell_type": "code",
   "execution_count": 48,
   "metadata": {
    "ExecuteTime": {
     "end_time": "2019-07-11T15:05:32.803390Z",
     "start_time": "2019-07-11T15:05:30.870166Z"
    }
   },
   "outputs": [
    {
     "name": "stdout",
     "output_type": "stream",
     "text": [
      "'tjdnf175'\n",
      "'tkfka175'\n",
      "'insecure'\n"
     ]
    }
   ],
   "source": [
    "# print(repr(db.query(\"bob\")))\n",
    "# print(repr(db.query(\"alice\")))\n",
    "# print(repr(db.query(\"sec_work\")))\n",
    "print(repr(db[\"bob\"]))\n",
    "print(repr(db[\"alice\"]))\n",
    "print(repr(db[\"sec_work\"]))"
   ]
  },
  {
   "cell_type": "markdown",
   "metadata": {},
   "source": [
    "# Lesson: Encrypted Deep Learning in PyTorch"
   ]
  },
  {
   "cell_type": "markdown",
   "metadata": {},
   "source": [
    "### Train a Model"
   ]
  },
  {
   "cell_type": "code",
   "execution_count": 49,
   "metadata": {
    "ExecuteTime": {
     "end_time": "2019-07-11T15:05:32.982452Z",
     "start_time": "2019-07-11T15:05:32.804387Z"
    }
   },
   "outputs": [
    {
     "name": "stdout",
     "output_type": "stream",
     "text": [
      "tensor(2.4000)\n",
      "tensor(2.5587)\n",
      "tensor(2.8824)\n",
      "tensor(0.7130)\n",
      "tensor(0.4339)\n",
      "tensor(0.2742)\n",
      "tensor(0.1787)\n",
      "tensor(0.1123)\n",
      "tensor(0.0680)\n",
      "tensor(0.0404)\n",
      "tensor(0.0240)\n",
      "tensor(0.0146)\n",
      "tensor(0.0093)\n",
      "tensor(0.0062)\n",
      "tensor(0.0045)\n",
      "tensor(0.0034)\n",
      "tensor(0.0027)\n",
      "tensor(0.0022)\n",
      "tensor(0.0018)\n",
      "tensor(0.0015)\n"
     ]
    }
   ],
   "source": [
    "from torch import nn\n",
    "from torch import optim\n",
    "import torch.nn.functional as F\n",
    "\n",
    "# A Toy Dataset\n",
    "data = torch.tensor([[0,0],[0,1],[1,0],[1,1.]], requires_grad=True)\n",
    "target = torch.tensor([[0],[0],[1],[1.]], requires_grad=True)\n",
    "\n",
    "class Net(nn.Module):\n",
    "    def __init__(self):\n",
    "        super(Net, self).__init__()\n",
    "        self.fc1 = nn.Linear(2, 20)\n",
    "        self.fc2 = nn.Linear(20, 1)\n",
    "\n",
    "    def forward(self, x):\n",
    "        x = self.fc1(x)\n",
    "        x = F.relu(x)\n",
    "        x = self.fc2(x)\n",
    "        return x\n",
    "\n",
    "# A Toy Model\n",
    "model = Net()\n",
    "\n",
    "def train():\n",
    "    # Training Logic\n",
    "    opt = optim.SGD(params=model.parameters(),lr=0.1)\n",
    "    for iter in range(20):\n",
    "\n",
    "        # 1) erase previous gradients (if they exist)\n",
    "        opt.zero_grad()\n",
    "\n",
    "        # 2) make a prediction\n",
    "        pred = model(data)\n",
    "\n",
    "        # 3) calculate how much we missed\n",
    "        loss = ((pred - target)**2).sum()\n",
    "\n",
    "        # 4) figure out which weights caused us to miss\n",
    "        loss.backward()\n",
    "\n",
    "        # 5) change those weights\n",
    "        opt.step()\n",
    "\n",
    "        # 6) print our progress\n",
    "        print(loss.data)\n",
    "        \n",
    "train()"
   ]
  },
  {
   "cell_type": "code",
   "execution_count": 50,
   "metadata": {
    "ExecuteTime": {
     "end_time": "2019-07-11T15:05:32.990420Z",
     "start_time": "2019-07-11T15:05:32.984417Z"
    }
   },
   "outputs": [
    {
     "data": {
      "text/plain": [
       "tensor([[ 0.0163],\n",
       "        [-0.0178],\n",
       "        [ 0.9742],\n",
       "        [ 1.0075]], grad_fn=<AddmmBackward>)"
      ]
     },
     "execution_count": 50,
     "metadata": {},
     "output_type": "execute_result"
    }
   ],
   "source": [
    "model(data)"
   ]
  },
  {
   "cell_type": "markdown",
   "metadata": {},
   "source": [
    "## Encrypt the Model and Data"
   ]
  },
  {
   "cell_type": "code",
   "execution_count": 51,
   "metadata": {
    "ExecuteTime": {
     "end_time": "2019-07-11T15:05:33.004412Z",
     "start_time": "2019-07-11T15:05:32.992396Z"
    }
   },
   "outputs": [],
   "source": [
    "encrypted_model = model.fix_precision().share(alice, bob, crypto_provider=secure_worker)"
   ]
  },
  {
   "cell_type": "code",
   "execution_count": 52,
   "metadata": {
    "ExecuteTime": {
     "end_time": "2019-07-11T15:05:33.011351Z",
     "start_time": "2019-07-11T15:05:33.005361Z"
    }
   },
   "outputs": [
    {
     "data": {
      "text/plain": [
       "[Parameter containing:\n",
       " Parameter>FixedPrecisionTensor>(Wrapper)>[AdditiveSharingTensor]\n",
       " \t-> (Wrapper)>[PointerTensor | me:10904993546 -> alice:50924494026]\n",
       " \t-> (Wrapper)>[PointerTensor | me:2605850933 -> bob:25367522906]\n",
       " \t*crypto provider: secure_worker*, Parameter containing:\n",
       " Parameter>FixedPrecisionTensor>(Wrapper)>[AdditiveSharingTensor]\n",
       " \t-> (Wrapper)>[PointerTensor | me:40592808829 -> alice:35783348304]\n",
       " \t-> (Wrapper)>[PointerTensor | me:20745875638 -> bob:300101761]\n",
       " \t*crypto provider: secure_worker*, Parameter containing:\n",
       " Parameter>FixedPrecisionTensor>(Wrapper)>[AdditiveSharingTensor]\n",
       " \t-> (Wrapper)>[PointerTensor | me:82551338113 -> alice:84250780426]\n",
       " \t-> (Wrapper)>[PointerTensor | me:77123306374 -> bob:98763949166]\n",
       " \t*crypto provider: secure_worker*, Parameter containing:\n",
       " Parameter>FixedPrecisionTensor>(Wrapper)>[AdditiveSharingTensor]\n",
       " \t-> (Wrapper)>[PointerTensor | me:54188193453 -> alice:31601563354]\n",
       " \t-> (Wrapper)>[PointerTensor | me:58509309716 -> bob:56855817350]\n",
       " \t*crypto provider: secure_worker*]"
      ]
     },
     "execution_count": 52,
     "metadata": {},
     "output_type": "execute_result"
    }
   ],
   "source": [
    "list(encrypted_model.parameters())"
   ]
  },
  {
   "cell_type": "code",
   "execution_count": 53,
   "metadata": {
    "ExecuteTime": {
     "end_time": "2019-07-11T15:05:33.019361Z",
     "start_time": "2019-07-11T15:05:33.013343Z"
    }
   },
   "outputs": [],
   "source": [
    "encrypted_data = data.fix_precision().share(alice, bob, crypto_provider=secure_worker)"
   ]
  },
  {
   "cell_type": "code",
   "execution_count": 54,
   "metadata": {
    "ExecuteTime": {
     "end_time": "2019-07-11T15:05:33.027323Z",
     "start_time": "2019-07-11T15:05:33.023315Z"
    }
   },
   "outputs": [
    {
     "data": {
      "text/plain": [
       "(Wrapper)>FixedPrecisionTensor>(Wrapper)>[AdditiveSharingTensor]\n",
       "\t-> (Wrapper)>[PointerTensor | me:46664584074 -> alice:33482466867]\n",
       "\t-> (Wrapper)>[PointerTensor | me:35655244115 -> bob:27711342930]\n",
       "\t*crypto provider: secure_worker*"
      ]
     },
     "execution_count": 54,
     "metadata": {},
     "output_type": "execute_result"
    }
   ],
   "source": [
    "encrypted_data"
   ]
  },
  {
   "cell_type": "code",
   "execution_count": 55,
   "metadata": {
    "ExecuteTime": {
     "end_time": "2019-07-11T15:05:33.218826Z",
     "start_time": "2019-07-11T15:05:33.030296Z"
    }
   },
   "outputs": [],
   "source": [
    "encrypted_prediction = encrypted_model(encrypted_data)"
   ]
  },
  {
   "cell_type": "code",
   "execution_count": 56,
   "metadata": {
    "ExecuteTime": {
     "end_time": "2019-07-11T15:05:33.227767Z",
     "start_time": "2019-07-11T15:05:33.220786Z"
    }
   },
   "outputs": [
    {
     "data": {
      "text/plain": [
       "tensor([[ 0.0150],\n",
       "        [-0.0190],\n",
       "        [ 0.9730],\n",
       "        [ 1.0050]])"
      ]
     },
     "execution_count": 56,
     "metadata": {},
     "output_type": "execute_result"
    }
   ],
   "source": [
    "encrypted_prediction.get().float_precision()"
   ]
  },
  {
   "cell_type": "markdown",
   "metadata": {},
   "source": [
    "# Lesson: Encrypted Deep Learning in Keras\n"
   ]
  },
  {
   "cell_type": "markdown",
   "metadata": {},
   "source": [
    "## Step 1: Public Training\n",
    "\n",
    "Welcome to this tutorial! In the following notebooks you will learn how to provide private predictions. By private predictions, we mean that the data is constantly encrypted throughout the entire process. At no point is the user sharing raw data, only encrypted (that is, secret shared) data. In order to provide these private predictions, Syft Keras uses a library called [TF Encrypted](https://github.com/tf-encrypted/tf-encrypted) under the hood. TF Encrypted combines cutting-edge cryptographic and machine learning techniques, but you don't have to worry about this and can focus on your machine learning application.\n",
    "\n",
    "You can start serving private predictions with only three steps:\n",
    "- **Step 1**: train your model with normal Keras.\n",
    "- **Step 2**: secure and serve your machine learning model (server).\n",
    "- **Step 3**: query the secured model to receive private predictions (client). \n",
    "\n",
    "Alright, let's go through these three steps so you can deploy impactful machine learning services without sacrificing user privacy or model security.\n",
    "\n",
    "Huge shoutout to the Dropout Labs ([@dropoutlabs](https://twitter.com/dropoutlabs)) and TF Encrypted ([@tf_encrypted](https://twitter.com/tf_encrypted)) teams for their great work which makes this demo possible, especially: Jason Mancuso ([@jvmancuso](https://twitter.com/jvmancuso)), Yann Dupis ([@YannDupis](https://twitter.com/YannDupis)), and Morten Dahl ([@mortendahlcs](https://github.com/mortendahlcs)). \n",
    "\n",
    "_Demo Ref: https://github.com/OpenMined/PySyft/tree/dev/examples/tutorials_"
   ]
  },
  {
   "cell_type": "markdown",
   "metadata": {},
   "source": [
    "## Train Your Model in Keras\n",
    "\n",
    "To use privacy-preserving machine learning techniques for your projects you should not have to learn a new machine learning framework. If you have basic [Keras](https://keras.io/) knowledge, you can start using these techniques with Syft Keras. If you have never used Keras before, you can learn a bit more about it through the [Keras documentation](https://keras.io). \n",
    "\n",
    "Before serving private predictions, the first step is to train your model with normal Keras. As an example, we will train a model to classify handwritten digits. To train this model we will use the canonical [MNIST dataset](http://yann.lecun.com/exdb/mnist/).\n",
    "\n",
    "We borrow [this example](https://github.com/keras-team/keras/blob/master/examples/mnist_cnn.py) from the reference Keras repository.  To train your classification model, you just run the cell below."
   ]
  },
  {
   "cell_type": "code",
   "execution_count": 57,
   "metadata": {
    "ExecuteTime": {
     "end_time": "2019-07-11T15:06:10.151414Z",
     "start_time": "2019-07-11T15:05:33.229766Z"
    },
    "scrolled": true
   },
   "outputs": [
    {
     "name": "stdout",
     "output_type": "stream",
     "text": [
      "x_train shape: (60000, 28, 28, 1)\n",
      "60000 train samples\n",
      "10000 test samples\n",
      "WARNING:tensorflow:From C:\\Users\\0107w\\Anaconda3\\envs\\secureai\\lib\\site-packages\\tensorflow\\python\\ops\\resource_variable_ops.py:435: colocate_with (from tensorflow.python.framework.ops) is deprecated and will be removed in a future version.\n",
      "Instructions for updating:\n",
      "Colocations handled automatically by placer.\n"
     ]
    },
    {
     "name": "stderr",
     "output_type": "stream",
     "text": [
      "WARNING:tensorflow:From C:\\Users\\0107w\\Anaconda3\\envs\\secureai\\lib\\site-packages\\tensorflow\\python\\ops\\resource_variable_ops.py:435: colocate_with (from tensorflow.python.framework.ops) is deprecated and will be removed in a future version.\n",
      "Instructions for updating:\n",
      "Colocations handled automatically by placer.\n"
     ]
    },
    {
     "name": "stdout",
     "output_type": "stream",
     "text": [
      "Train on 60000 samples, validate on 10000 samples\n",
      "WARNING:tensorflow:From C:\\Users\\0107w\\Anaconda3\\envs\\secureai\\lib\\site-packages\\tensorflow\\python\\ops\\math_ops.py:3066: to_int32 (from tensorflow.python.ops.math_ops) is deprecated and will be removed in a future version.\n",
      "Instructions for updating:\n",
      "Use tf.cast instead.\n"
     ]
    },
    {
     "name": "stderr",
     "output_type": "stream",
     "text": [
      "WARNING:tensorflow:From C:\\Users\\0107w\\Anaconda3\\envs\\secureai\\lib\\site-packages\\tensorflow\\python\\ops\\math_ops.py:3066: to_int32 (from tensorflow.python.ops.math_ops) is deprecated and will be removed in a future version.\n",
      "Instructions for updating:\n",
      "Use tf.cast instead.\n"
     ]
    },
    {
     "name": "stdout",
     "output_type": "stream",
     "text": [
      "Epoch 1/2\n"
     ]
    },
    {
     "name": "stdout",
     "output_type": "stream",
     "text": [
      "54912/60000 [==========================>...] - ETA: 1:46 - loss: 2.3027 - acc: 0.093 - ETA: 44s - loss: 2.3032 - acc: 0.067 - ETA: 32s - loss: 2.3019 - acc: 0.07 - ETA: 27s - loss: 2.3006 - acc: 0.11 - ETA: 23s - loss: 2.3004 - acc: 0.11 - ETA: 22s - loss: 2.2991 - acc: 0.13 - ETA: 20s - loss: 2.2981 - acc: 0.14 - ETA: 19s - loss: 2.2970 - acc: 0.14 - ETA: 18s - loss: 2.2954 - acc: 0.15 - ETA: 18s - loss: 2.2931 - acc: 0.17 - ETA: 17s - loss: 2.2909 - acc: 0.17 - ETA: 17s - loss: 2.2882 - acc: 0.18 - ETA: 16s - loss: 2.2846 - acc: 0.18 - ETA: 16s - loss: 2.2786 - acc: 0.18 - ETA: 16s - loss: 2.2723 - acc: 0.19 - ETA: 15s - loss: 2.2619 - acc: 0.20 - ETA: 15s - loss: 2.2480 - acc: 0.20 - ETA: 15s - loss: 2.2297 - acc: 0.22 - ETA: 15s - loss: 2.2107 - acc: 0.23 - ETA: 14s - loss: 2.1925 - acc: 0.23 - ETA: 14s - loss: 2.1708 - acc: 0.24 - ETA: 14s - loss: 2.1541 - acc: 0.25 - ETA: 14s - loss: 2.1360 - acc: 0.26 - ETA: 14s - loss: 2.1121 - acc: 0.27 - ETA: 14s - loss: 2.0944 - acc: 0.27 - ETA: 14s - loss: 2.0679 - acc: 0.28 - ETA: 13s - loss: 2.0570 - acc: 0.29 - ETA: 13s - loss: 2.0342 - acc: 0.30 - ETA: 13s - loss: 2.0081 - acc: 0.31 - ETA: 13s - loss: 1.9891 - acc: 0.31 - ETA: 13s - loss: 1.9665 - acc: 0.32 - ETA: 13s - loss: 1.9396 - acc: 0.33 - ETA: 13s - loss: 1.9253 - acc: 0.34 - ETA: 13s - loss: 1.9024 - acc: 0.35 - ETA: 13s - loss: 1.8789 - acc: 0.36 - ETA: 12s - loss: 1.8637 - acc: 0.36 - ETA: 12s - loss: 1.8432 - acc: 0.37 - ETA: 12s - loss: 1.8190 - acc: 0.38 - ETA: 12s - loss: 1.7988 - acc: 0.39 - ETA: 12s - loss: 1.7866 - acc: 0.39 - ETA: 12s - loss: 1.7681 - acc: 0.40 - ETA: 12s - loss: 1.7500 - acc: 0.41 - ETA: 12s - loss: 1.7302 - acc: 0.41 - ETA: 12s - loss: 1.7128 - acc: 0.42 - ETA: 12s - loss: 1.6984 - acc: 0.42 - ETA: 12s - loss: 1.6810 - acc: 0.43 - ETA: 12s - loss: 1.6658 - acc: 0.43 - ETA: 11s - loss: 1.6538 - acc: 0.44 - ETA: 11s - loss: 1.6369 - acc: 0.44 - ETA: 11s - loss: 1.6203 - acc: 0.45 - ETA: 11s - loss: 1.6022 - acc: 0.46 - ETA: 11s - loss: 1.5876 - acc: 0.46 - ETA: 11s - loss: 1.5748 - acc: 0.47 - ETA: 11s - loss: 1.5612 - acc: 0.47 - ETA: 11s - loss: 1.5492 - acc: 0.48 - ETA: 11s - loss: 1.5353 - acc: 0.48 - ETA: 11s - loss: 1.5195 - acc: 0.49 - ETA: 11s - loss: 1.5042 - acc: 0.49 - ETA: 11s - loss: 1.4914 - acc: 0.50 - ETA: 11s - loss: 1.4809 - acc: 0.50 - ETA: 11s - loss: 1.4680 - acc: 0.51 - ETA: 11s - loss: 1.4534 - acc: 0.51 - ETA: 10s - loss: 1.4418 - acc: 0.52 - ETA: 10s - loss: 1.4304 - acc: 0.52 - ETA: 10s - loss: 1.4184 - acc: 0.52 - ETA: 10s - loss: 1.4060 - acc: 0.53 - ETA: 10s - loss: 1.3955 - acc: 0.53 - ETA: 10s - loss: 1.3843 - acc: 0.54 - ETA: 10s - loss: 1.3756 - acc: 0.54 - ETA: 10s - loss: 1.3650 - acc: 0.54 - ETA: 10s - loss: 1.3574 - acc: 0.54 - ETA: 10s - loss: 1.3505 - acc: 0.55 - ETA: 10s - loss: 1.3399 - acc: 0.55 - ETA: 10s - loss: 1.3298 - acc: 0.55 - ETA: 10s - loss: 1.3208 - acc: 0.56 - ETA: 10s - loss: 1.3105 - acc: 0.56 - ETA: 9s - loss: 1.2998 - acc: 0.5698 - ETA: 9s - loss: 1.2900 - acc: 0.573 - ETA: 9s - loss: 1.2833 - acc: 0.575 - ETA: 9s - loss: 1.2770 - acc: 0.578 - ETA: 9s - loss: 1.2668 - acc: 0.582 - ETA: 9s - loss: 1.2575 - acc: 0.585 - ETA: 9s - loss: 1.2496 - acc: 0.587 - ETA: 9s - loss: 1.2411 - acc: 0.590 - ETA: 9s - loss: 1.2328 - acc: 0.593 - ETA: 9s - loss: 1.2239 - acc: 0.596 - ETA: 9s - loss: 1.2157 - acc: 0.599 - ETA: 9s - loss: 1.2078 - acc: 0.601 - ETA: 9s - loss: 1.1996 - acc: 0.605 - ETA: 9s - loss: 1.1925 - acc: 0.607 - ETA: 9s - loss: 1.1855 - acc: 0.609 - ETA: 9s - loss: 1.1801 - acc: 0.611 - ETA: 8s - loss: 1.1724 - acc: 0.614 - ETA: 8s - loss: 1.1649 - acc: 0.616 - ETA: 8s - loss: 1.1581 - acc: 0.619 - ETA: 8s - loss: 1.1509 - acc: 0.621 - ETA: 8s - loss: 1.1449 - acc: 0.623 - ETA: 8s - loss: 1.1375 - acc: 0.626 - ETA: 8s - loss: 1.1313 - acc: 0.628 - ETA: 8s - loss: 1.1255 - acc: 0.630 - ETA: 8s - loss: 1.1203 - acc: 0.632 - ETA: 8s - loss: 1.1144 - acc: 0.634 - ETA: 8s - loss: 1.1082 - acc: 0.636 - ETA: 8s - loss: 1.1031 - acc: 0.637 - ETA: 8s - loss: 1.0964 - acc: 0.640 - ETA: 8s - loss: 1.0899 - acc: 0.642 - ETA: 8s - loss: 1.0836 - acc: 0.644 - ETA: 7s - loss: 1.0791 - acc: 0.646 - ETA: 7s - loss: 1.0737 - acc: 0.648 - ETA: 7s - loss: 1.0687 - acc: 0.650 - ETA: 7s - loss: 1.0644 - acc: 0.651 - ETA: 7s - loss: 1.0588 - acc: 0.653 - ETA: 7s - loss: 1.0536 - acc: 0.655 - ETA: 7s - loss: 1.0489 - acc: 0.657 - ETA: 7s - loss: 1.0437 - acc: 0.658 - ETA: 7s - loss: 1.0379 - acc: 0.660 - ETA: 7s - loss: 1.0336 - acc: 0.662 - ETA: 7s - loss: 1.0289 - acc: 0.663 - ETA: 7s - loss: 1.0242 - acc: 0.665 - ETA: 7s - loss: 1.0189 - acc: 0.667 - ETA: 7s - loss: 1.0139 - acc: 0.668 - ETA: 7s - loss: 1.0089 - acc: 0.670 - ETA: 7s - loss: 1.0043 - acc: 0.672 - ETA: 6s - loss: 1.0003 - acc: 0.673 - ETA: 6s - loss: 0.9948 - acc: 0.675 - ETA: 6s - loss: 0.9908 - acc: 0.677 - ETA: 6s - loss: 0.9862 - acc: 0.678 - ETA: 6s - loss: 0.9819 - acc: 0.679 - ETA: 6s - loss: 0.9769 - acc: 0.681 - ETA: 6s - loss: 0.9735 - acc: 0.682 - ETA: 6s - loss: 0.9691 - acc: 0.684 - ETA: 6s - loss: 0.9645 - acc: 0.686 - ETA: 6s - loss: 0.9601 - acc: 0.687 - ETA: 6s - loss: 0.9561 - acc: 0.688 - ETA: 6s - loss: 0.9516 - acc: 0.690 - ETA: 6s - loss: 0.9478 - acc: 0.691 - ETA: 6s - loss: 0.9443 - acc: 0.692 - ETA: 6s - loss: 0.9406 - acc: 0.694 - ETA: 6s - loss: 0.9366 - acc: 0.695 - ETA: 5s - loss: 0.9326 - acc: 0.696 - ETA: 5s - loss: 0.9286 - acc: 0.698 - ETA: 5s - loss: 0.9244 - acc: 0.699 - ETA: 5s - loss: 0.9204 - acc: 0.700 - ETA: 5s - loss: 0.9169 - acc: 0.702 - ETA: 5s - loss: 0.9132 - acc: 0.703 - ETA: 5s - loss: 0.9093 - acc: 0.704 - ETA: 5s - loss: 0.9060 - acc: 0.705 - ETA: 5s - loss: 0.9021 - acc: 0.707 - ETA: 5s - loss: 0.8981 - acc: 0.708 - ETA: 5s - loss: 0.8939 - acc: 0.709 - ETA: 5s - loss: 0.8897 - acc: 0.711 - ETA: 5s - loss: 0.8863 - acc: 0.712 - ETA: 5s - loss: 0.8825 - acc: 0.713 - ETA: 5s - loss: 0.8790 - acc: 0.714 - ETA: 5s - loss: 0.8752 - acc: 0.716 - ETA: 4s - loss: 0.8719 - acc: 0.717 - ETA: 4s - loss: 0.8693 - acc: 0.718 - ETA: 4s - loss: 0.8657 - acc: 0.719 - ETA: 4s - loss: 0.8617 - acc: 0.720 - ETA: 4s - loss: 0.8579 - acc: 0.721 - ETA: 4s - loss: 0.8543 - acc: 0.723 - ETA: 4s - loss: 0.8518 - acc: 0.723 - ETA: 4s - loss: 0.8487 - acc: 0.724 - ETA: 4s - loss: 0.8459 - acc: 0.725 - ETA: 4s - loss: 0.8427 - acc: 0.727 - ETA: 4s - loss: 0.8393 - acc: 0.728 - ETA: 4s - loss: 0.8362 - acc: 0.729 - ETA: 4s - loss: 0.8335 - acc: 0.730 - ETA: 4s - loss: 0.8303 - acc: 0.731 - ETA: 4s - loss: 0.8271 - acc: 0.732 - ETA: 4s - loss: 0.8241 - acc: 0.733 - ETA: 3s - loss: 0.8218 - acc: 0.734 - ETA: 3s - loss: 0.8196 - acc: 0.734 - ETA: 3s - loss: 0.8180 - acc: 0.735 - ETA: 3s - loss: 0.8151 - acc: 0.736 - ETA: 3s - loss: 0.8122 - acc: 0.737 - ETA: 3s - loss: 0.8094 - acc: 0.738 - ETA: 3s - loss: 0.8077 - acc: 0.738 - ETA: 3s - loss: 0.8056 - acc: 0.739 - ETA: 3s - loss: 0.8031 - acc: 0.740 - ETA: 3s - loss: 0.8003 - acc: 0.741 - ETA: 3s - loss: 0.7980 - acc: 0.741 - ETA: 3s - loss: 0.7957 - acc: 0.742 - ETA: 3s - loss: 0.7934 - acc: 0.743 - ETA: 3s - loss: 0.7907 - acc: 0.744 - ETA: 3s - loss: 0.7885 - acc: 0.745 - ETA: 3s - loss: 0.7864 - acc: 0.746 - ETA: 2s - loss: 0.7839 - acc: 0.747 - ETA: 2s - loss: 0.7813 - acc: 0.747 - ETA: 2s - loss: 0.7789 - acc: 0.748 - ETA: 2s - loss: 0.7762 - acc: 0.749 - ETA: 2s - loss: 0.7734 - acc: 0.750 - ETA: 2s - loss: 0.7707 - acc: 0.751 - ETA: 2s - loss: 0.7684 - acc: 0.752 - ETA: 2s - loss: 0.7661 - acc: 0.752 - ETA: 2s - loss: 0.7636 - acc: 0.753 - ETA: 2s - loss: 0.7617 - acc: 0.754 - ETA: 2s - loss: 0.7593 - acc: 0.755 - ETA: 2s - loss: 0.7572 - acc: 0.755 - ETA: 2s - loss: 0.7547 - acc: 0.756 - ETA: 2s - loss: 0.7523 - acc: 0.757 - ETA: 2s - loss: 0.7504 - acc: 0.758 - ETA: 2s - loss: 0.7481 - acc: 0.759 - ETA: 1s - loss: 0.7458 - acc: 0.759 - ETA: 1s - loss: 0.7438 - acc: 0.760 - ETA: 1s - loss: 0.7413 - acc: 0.761 - ETA: 1s - loss: 0.7390 - acc: 0.762 - ETA: 1s - loss: 0.7370 - acc: 0.762 - ETA: 1s - loss: 0.7350 - acc: 0.763 - ETA: 1s - loss: 0.7329 - acc: 0.763 - ETA: 1s - loss: 0.7307 - acc: 0.764 - ETA: 1s - loss: 0.7290 - acc: 0.765 - ETA: 1s - loss: 0.7271 - acc: 0.765 - ETA: 1s - loss: 0.7251 - acc: 0.766 - ETA: 1s - loss: 0.7232 - acc: 0.7670\b\b\b\b\b\b\b\b\b\b\b\b\b\b\b\b\b\b\b\b\b\b\b\b\b\b\b\b\b\b\b\b\b\b\b\b\b\b\b\b\b\b\b\b\b\b\b\b\b\b\b\b\b\b\b\b\b\b\b\b\b\b\b\b\b\b\b\b\b\b\b\b\b\b\b\b\b\b\b\b\b\b\b"
     ]
    },
    {
     "name": "stdout",
     "output_type": "stream",
     "text": [
      "60000/60000 [==============================] - ETA: 1s - loss: 0.7214 - acc: 0.767 - ETA: 1s - loss: 0.7197 - acc: 0.768 - ETA: 1s - loss: 0.7180 - acc: 0.768 - ETA: 1s - loss: 0.7164 - acc: 0.769 - ETA: 0s - loss: 0.7143 - acc: 0.769 - ETA: 0s - loss: 0.7121 - acc: 0.770 - ETA: 0s - loss: 0.7104 - acc: 0.771 - ETA: 0s - loss: 0.7083 - acc: 0.771 - ETA: 0s - loss: 0.7061 - acc: 0.772 - ETA: 0s - loss: 0.7039 - acc: 0.773 - ETA: 0s - loss: 0.7017 - acc: 0.774 - ETA: 0s - loss: 0.7001 - acc: 0.774 - ETA: 0s - loss: 0.6985 - acc: 0.775 - ETA: 0s - loss: 0.6966 - acc: 0.775 - ETA: 0s - loss: 0.6948 - acc: 0.776 - ETA: 0s - loss: 0.6928 - acc: 0.777 - ETA: 0s - loss: 0.6910 - acc: 0.777 - ETA: 0s - loss: 0.6892 - acc: 0.778 - ETA: 0s - loss: 0.6871 - acc: 0.778 - 16s 273us/sample - loss: 0.6859 - acc: 0.7793 - val_loss: 0.2704 - val_acc: 0.9177\n",
      "Epoch 2/2\n"
     ]
    },
    {
     "name": "stdout",
     "output_type": "stream",
     "text": [
      "53248/60000 [=========================>....] - ETA: 16s - loss: 0.3013 - acc: 0.92 - ETA: 15s - loss: 0.3294 - acc: 0.90 - ETA: 15s - loss: 0.2988 - acc: 0.91 - ETA: 17s - loss: 0.2892 - acc: 0.91 - ETA: 17s - loss: 0.2794 - acc: 0.92 - ETA: 17s - loss: 0.2783 - acc: 0.91 - ETA: 17s - loss: 0.2920 - acc: 0.91 - ETA: 17s - loss: 0.2944 - acc: 0.91 - ETA: 17s - loss: 0.2873 - acc: 0.91 - ETA: 17s - loss: 0.2762 - acc: 0.92 - ETA: 17s - loss: 0.2738 - acc: 0.92 - ETA: 17s - loss: 0.2861 - acc: 0.91 - ETA: 17s - loss: 0.2850 - acc: 0.91 - ETA: 17s - loss: 0.2851 - acc: 0.91 - ETA: 17s - loss: 0.2805 - acc: 0.91 - ETA: 17s - loss: 0.2801 - acc: 0.91 - ETA: 17s - loss: 0.2806 - acc: 0.91 - ETA: 18s - loss: 0.2844 - acc: 0.91 - ETA: 18s - loss: 0.2819 - acc: 0.91 - ETA: 18s - loss: 0.2782 - acc: 0.91 - ETA: 18s - loss: 0.2775 - acc: 0.91 - ETA: 18s - loss: 0.2751 - acc: 0.91 - ETA: 18s - loss: 0.2746 - acc: 0.91 - ETA: 18s - loss: 0.2734 - acc: 0.91 - ETA: 18s - loss: 0.2728 - acc: 0.91 - ETA: 18s - loss: 0.2745 - acc: 0.91 - ETA: 18s - loss: 0.2714 - acc: 0.91 - ETA: 17s - loss: 0.2705 - acc: 0.91 - ETA: 17s - loss: 0.2706 - acc: 0.91 - ETA: 17s - loss: 0.2711 - acc: 0.91 - ETA: 17s - loss: 0.2723 - acc: 0.91 - ETA: 17s - loss: 0.2745 - acc: 0.91 - ETA: 17s - loss: 0.2745 - acc: 0.91 - ETA: 17s - loss: 0.2744 - acc: 0.91 - ETA: 17s - loss: 0.2728 - acc: 0.91 - ETA: 16s - loss: 0.2707 - acc: 0.91 - ETA: 16s - loss: 0.2696 - acc: 0.91 - ETA: 16s - loss: 0.2694 - acc: 0.91 - ETA: 16s - loss: 0.2683 - acc: 0.91 - ETA: 16s - loss: 0.2666 - acc: 0.91 - ETA: 16s - loss: 0.2684 - acc: 0.91 - ETA: 16s - loss: 0.2684 - acc: 0.91 - ETA: 16s - loss: 0.2701 - acc: 0.91 - ETA: 16s - loss: 0.2682 - acc: 0.91 - ETA: 15s - loss: 0.2693 - acc: 0.91 - ETA: 15s - loss: 0.2689 - acc: 0.91 - ETA: 15s - loss: 0.2677 - acc: 0.91 - ETA: 15s - loss: 0.2681 - acc: 0.91 - ETA: 15s - loss: 0.2663 - acc: 0.91 - ETA: 15s - loss: 0.2669 - acc: 0.91 - ETA: 15s - loss: 0.2682 - acc: 0.91 - ETA: 15s - loss: 0.2696 - acc: 0.91 - ETA: 15s - loss: 0.2702 - acc: 0.91 - ETA: 15s - loss: 0.2686 - acc: 0.91 - ETA: 14s - loss: 0.2680 - acc: 0.91 - ETA: 14s - loss: 0.2680 - acc: 0.91 - ETA: 14s - loss: 0.2688 - acc: 0.91 - ETA: 14s - loss: 0.2682 - acc: 0.91 - ETA: 14s - loss: 0.2680 - acc: 0.91 - ETA: 14s - loss: 0.2691 - acc: 0.91 - ETA: 14s - loss: 0.2691 - acc: 0.91 - ETA: 14s - loss: 0.2685 - acc: 0.91 - ETA: 13s - loss: 0.2676 - acc: 0.91 - ETA: 13s - loss: 0.2668 - acc: 0.91 - ETA: 13s - loss: 0.2663 - acc: 0.91 - ETA: 13s - loss: 0.2667 - acc: 0.91 - ETA: 13s - loss: 0.2663 - acc: 0.91 - ETA: 13s - loss: 0.2659 - acc: 0.91 - ETA: 13s - loss: 0.2656 - acc: 0.91 - ETA: 13s - loss: 0.2647 - acc: 0.91 - ETA: 13s - loss: 0.2633 - acc: 0.91 - ETA: 12s - loss: 0.2644 - acc: 0.91 - ETA: 12s - loss: 0.2653 - acc: 0.91 - ETA: 12s - loss: 0.2637 - acc: 0.91 - ETA: 12s - loss: 0.2635 - acc: 0.91 - ETA: 12s - loss: 0.2631 - acc: 0.91 - ETA: 12s - loss: 0.2624 - acc: 0.91 - ETA: 12s - loss: 0.2618 - acc: 0.91 - ETA: 12s - loss: 0.2616 - acc: 0.92 - ETA: 12s - loss: 0.2608 - acc: 0.92 - ETA: 12s - loss: 0.2594 - acc: 0.92 - ETA: 12s - loss: 0.2587 - acc: 0.92 - ETA: 12s - loss: 0.2574 - acc: 0.92 - ETA: 11s - loss: 0.2563 - acc: 0.92 - ETA: 11s - loss: 0.2558 - acc: 0.92 - ETA: 11s - loss: 0.2550 - acc: 0.92 - ETA: 11s - loss: 0.2549 - acc: 0.92 - ETA: 11s - loss: 0.2546 - acc: 0.92 - ETA: 11s - loss: 0.2550 - acc: 0.92 - ETA: 11s - loss: 0.2543 - acc: 0.92 - ETA: 11s - loss: 0.2535 - acc: 0.92 - ETA: 11s - loss: 0.2528 - acc: 0.92 - ETA: 11s - loss: 0.2524 - acc: 0.92 - ETA: 11s - loss: 0.2515 - acc: 0.92 - ETA: 10s - loss: 0.2504 - acc: 0.92 - ETA: 10s - loss: 0.2496 - acc: 0.92 - ETA: 10s - loss: 0.2492 - acc: 0.92 - ETA: 10s - loss: 0.2487 - acc: 0.92 - ETA: 10s - loss: 0.2474 - acc: 0.92 - ETA: 10s - loss: 0.2474 - acc: 0.92 - ETA: 10s - loss: 0.2465 - acc: 0.92 - ETA: 10s - loss: 0.2457 - acc: 0.92 - ETA: 10s - loss: 0.2458 - acc: 0.92 - ETA: 10s - loss: 0.2450 - acc: 0.92 - ETA: 10s - loss: 0.2440 - acc: 0.92 - ETA: 9s - loss: 0.2434 - acc: 0.9252 - ETA: 9s - loss: 0.2438 - acc: 0.925 - ETA: 9s - loss: 0.2432 - acc: 0.925 - ETA: 9s - loss: 0.2433 - acc: 0.925 - ETA: 9s - loss: 0.2426 - acc: 0.925 - ETA: 9s - loss: 0.2429 - acc: 0.925 - ETA: 9s - loss: 0.2429 - acc: 0.925 - ETA: 9s - loss: 0.2426 - acc: 0.925 - ETA: 9s - loss: 0.2417 - acc: 0.926 - ETA: 9s - loss: 0.2412 - acc: 0.926 - ETA: 9s - loss: 0.2410 - acc: 0.926 - ETA: 8s - loss: 0.2406 - acc: 0.926 - ETA: 8s - loss: 0.2401 - acc: 0.926 - ETA: 8s - loss: 0.2392 - acc: 0.926 - ETA: 8s - loss: 0.2397 - acc: 0.926 - ETA: 8s - loss: 0.2398 - acc: 0.926 - ETA: 8s - loss: 0.2392 - acc: 0.926 - ETA: 8s - loss: 0.2387 - acc: 0.926 - ETA: 8s - loss: 0.2380 - acc: 0.926 - ETA: 8s - loss: 0.2376 - acc: 0.927 - ETA: 8s - loss: 0.2367 - acc: 0.927 - ETA: 8s - loss: 0.2370 - acc: 0.927 - ETA: 8s - loss: 0.2371 - acc: 0.927 - ETA: 8s - loss: 0.2374 - acc: 0.926 - ETA: 7s - loss: 0.2369 - acc: 0.927 - ETA: 7s - loss: 0.2364 - acc: 0.927 - ETA: 7s - loss: 0.2359 - acc: 0.927 - ETA: 7s - loss: 0.2355 - acc: 0.927 - ETA: 7s - loss: 0.2360 - acc: 0.927 - ETA: 7s - loss: 0.2356 - acc: 0.927 - ETA: 7s - loss: 0.2354 - acc: 0.927 - ETA: 7s - loss: 0.2350 - acc: 0.927 - ETA: 7s - loss: 0.2347 - acc: 0.927 - ETA: 7s - loss: 0.2344 - acc: 0.927 - ETA: 7s - loss: 0.2345 - acc: 0.927 - ETA: 7s - loss: 0.2339 - acc: 0.928 - ETA: 6s - loss: 0.2339 - acc: 0.928 - ETA: 6s - loss: 0.2339 - acc: 0.928 - ETA: 6s - loss: 0.2338 - acc: 0.927 - ETA: 6s - loss: 0.2333 - acc: 0.928 - ETA: 6s - loss: 0.2327 - acc: 0.928 - ETA: 6s - loss: 0.2326 - acc: 0.928 - ETA: 6s - loss: 0.2323 - acc: 0.928 - ETA: 6s - loss: 0.2323 - acc: 0.928 - ETA: 6s - loss: 0.2321 - acc: 0.928 - ETA: 6s - loss: 0.2318 - acc: 0.928 - ETA: 6s - loss: 0.2317 - acc: 0.928 - ETA: 6s - loss: 0.2321 - acc: 0.928 - ETA: 6s - loss: 0.2321 - acc: 0.927 - ETA: 5s - loss: 0.2323 - acc: 0.927 - ETA: 5s - loss: 0.2323 - acc: 0.928 - ETA: 5s - loss: 0.2318 - acc: 0.928 - ETA: 5s - loss: 0.2315 - acc: 0.928 - ETA: 5s - loss: 0.2310 - acc: 0.928 - ETA: 5s - loss: 0.2306 - acc: 0.928 - ETA: 5s - loss: 0.2302 - acc: 0.928 - ETA: 5s - loss: 0.2303 - acc: 0.928 - ETA: 5s - loss: 0.2300 - acc: 0.928 - ETA: 5s - loss: 0.2301 - acc: 0.928 - ETA: 5s - loss: 0.2305 - acc: 0.928 - ETA: 5s - loss: 0.2302 - acc: 0.928 - ETA: 5s - loss: 0.2299 - acc: 0.928 - ETA: 5s - loss: 0.2295 - acc: 0.928 - ETA: 4s - loss: 0.2295 - acc: 0.928 - ETA: 4s - loss: 0.2291 - acc: 0.929 - ETA: 4s - loss: 0.2293 - acc: 0.928 - ETA: 4s - loss: 0.2293 - acc: 0.928 - ETA: 4s - loss: 0.2293 - acc: 0.928 - ETA: 4s - loss: 0.2291 - acc: 0.928 - ETA: 4s - loss: 0.2290 - acc: 0.928 - ETA: 4s - loss: 0.2286 - acc: 0.929 - ETA: 4s - loss: 0.2287 - acc: 0.929 - ETA: 4s - loss: 0.2283 - acc: 0.929 - ETA: 4s - loss: 0.2281 - acc: 0.929 - ETA: 4s - loss: 0.2277 - acc: 0.929 - ETA: 4s - loss: 0.2277 - acc: 0.929 - ETA: 3s - loss: 0.2276 - acc: 0.929 - ETA: 3s - loss: 0.2271 - acc: 0.929 - ETA: 3s - loss: 0.2267 - acc: 0.929 - ETA: 3s - loss: 0.2264 - acc: 0.929 - ETA: 3s - loss: 0.2264 - acc: 0.929 - ETA: 3s - loss: 0.2265 - acc: 0.929 - ETA: 3s - loss: 0.2260 - acc: 0.929 - ETA: 3s - loss: 0.2256 - acc: 0.929 - ETA: 3s - loss: 0.2251 - acc: 0.930 - ETA: 3s - loss: 0.2246 - acc: 0.930 - ETA: 3s - loss: 0.2243 - acc: 0.930 - ETA: 3s - loss: 0.2242 - acc: 0.930 - ETA: 3s - loss: 0.2241 - acc: 0.930 - ETA: 3s - loss: 0.2241 - acc: 0.930 - ETA: 3s - loss: 0.2237 - acc: 0.930 - ETA: 3s - loss: 0.2239 - acc: 0.930 - ETA: 3s - loss: 0.2237 - acc: 0.930 - ETA: 3s - loss: 0.2237 - acc: 0.930 - ETA: 2s - loss: 0.2240 - acc: 0.930 - ETA: 2s - loss: 0.2235 - acc: 0.930 - ETA: 2s - loss: 0.2234 - acc: 0.930 - ETA: 2s - loss: 0.2230 - acc: 0.931 - ETA: 2s - loss: 0.2229 - acc: 0.931 - ETA: 2s - loss: 0.2230 - acc: 0.931 - ETA: 2s - loss: 0.2227 - acc: 0.931 - ETA: 2s - loss: 0.2231 - acc: 0.931 - ETA: 2s - loss: 0.2228 - acc: 0.931 - ETA: 2s - loss: 0.2224 - acc: 0.931 - ETA: 2s - loss: 0.2221 - acc: 0.931 - ETA: 2s - loss: 0.2220 - acc: 0.931 - ETA: 2s - loss: 0.2218 - acc: 0.931 - ETA: 2s - loss: 0.2215 - acc: 0.931 - ETA: 1s - loss: 0.2212 - acc: 0.931 - ETA: 1s - loss: 0.2209 - acc: 0.9318"
     ]
    },
    {
     "name": "stdout",
     "output_type": "stream",
     "text": [
      "60000/60000 [==============================] - ETA: 1s - loss: 0.2205 - acc: 0.931 - ETA: 1s - loss: 0.2204 - acc: 0.931 - ETA: 1s - loss: 0.2203 - acc: 0.932 - ETA: 1s - loss: 0.2199 - acc: 0.932 - ETA: 1s - loss: 0.2198 - acc: 0.932 - ETA: 1s - loss: 0.2193 - acc: 0.932 - ETA: 1s - loss: 0.2193 - acc: 0.932 - ETA: 1s - loss: 0.2190 - acc: 0.932 - ETA: 1s - loss: 0.2189 - acc: 0.932 - ETA: 1s - loss: 0.2188 - acc: 0.932 - ETA: 1s - loss: 0.2189 - acc: 0.932 - ETA: 1s - loss: 0.2187 - acc: 0.932 - ETA: 1s - loss: 0.2185 - acc: 0.932 - ETA: 0s - loss: 0.2186 - acc: 0.932 - ETA: 0s - loss: 0.2184 - acc: 0.932 - ETA: 0s - loss: 0.2184 - acc: 0.932 - ETA: 0s - loss: 0.2181 - acc: 0.932 - ETA: 0s - loss: 0.2178 - acc: 0.932 - ETA: 0s - loss: 0.2176 - acc: 0.932 - ETA: 0s - loss: 0.2178 - acc: 0.932 - ETA: 0s - loss: 0.2176 - acc: 0.933 - ETA: 0s - loss: 0.2175 - acc: 0.933 - ETA: 0s - loss: 0.2173 - acc: 0.933 - ETA: 0s - loss: 0.2169 - acc: 0.933 - ETA: 0s - loss: 0.2163 - acc: 0.933 - ETA: 0s - loss: 0.2161 - acc: 0.933 - 18s 301us/sample - loss: 0.2161 - acc: 0.9336 - val_loss: 0.1845 - val_acc: 0.9425\n",
      "Test loss: 0.1845355587169528\n",
      "Test accuracy: 0.9425\n"
     ]
    }
   ],
   "source": [
    "from __future__ import print_function\n",
    "import tensorflow.keras as keras\n",
    "from tensorflow.keras.datasets import mnist\n",
    "from tensorflow.keras.models import Sequential\n",
    "from tensorflow.keras.layers import Dense, Dropout, Flatten\n",
    "from tensorflow.keras.layers import Conv2D, AveragePooling2D\n",
    "from tensorflow.keras.layers import Activation\n",
    "\n",
    "batch_size = 128\n",
    "num_classes = 10\n",
    "epochs = 2\n",
    "\n",
    "# input image dimensions\n",
    "img_rows, img_cols = 28, 28\n",
    "\n",
    "# the data, split between train and test sets\n",
    "(x_train, y_train), (x_test, y_test) = mnist.load_data()\n",
    "\n",
    "x_train = x_train.reshape(x_train.shape[0], img_rows, img_cols, 1)\n",
    "x_test = x_test.reshape(x_test.shape[0], img_rows, img_cols, 1)\n",
    "input_shape = (img_rows, img_cols, 1)\n",
    "\n",
    "x_train = x_train.astype('float32')\n",
    "x_test = x_test.astype('float32')\n",
    "x_train /= 255\n",
    "x_test /= 255\n",
    "print('x_train shape:', x_train.shape)\n",
    "print(x_train.shape[0], 'train samples')\n",
    "print(x_test.shape[0], 'test samples')\n",
    "\n",
    "# convert class vectors to binary class matrices\n",
    "y_train = keras.utils.to_categorical(y_train, num_classes)\n",
    "y_test = keras.utils.to_categorical(y_test, num_classes)\n",
    "\n",
    "model = Sequential()\n",
    "\n",
    "model.add(Conv2D(10, (3, 3), input_shape=input_shape))\n",
    "model.add(AveragePooling2D((2, 2)))\n",
    "model.add(Activation('relu'))\n",
    "model.add(Conv2D(32, (3, 3)))\n",
    "model.add(AveragePooling2D((2, 2)))\n",
    "model.add(Activation('relu'))\n",
    "model.add(Conv2D(64, (3, 3)))\n",
    "model.add(AveragePooling2D((2, 2)))\n",
    "model.add(Activation('relu'))\n",
    "model.add(Flatten())\n",
    "model.add(Dense(num_classes, activation='softmax'))\n",
    "\n",
    "model.compile(loss=keras.losses.categorical_crossentropy,\n",
    "              optimizer=keras.optimizers.Adadelta(),\n",
    "              metrics=['accuracy'])\n",
    "\n",
    "model.fit(x_train, y_train,\n",
    "          batch_size=batch_size,\n",
    "          epochs=epochs,\n",
    "          verbose=1,\n",
    "          validation_data=(x_test, y_test))\n",
    "score = model.evaluate(x_test, y_test, verbose=0)\n",
    "print('Test loss:', score[0])\n",
    "print('Test accuracy:', score[1])"
   ]
  },
  {
   "cell_type": "code",
   "execution_count": 58,
   "metadata": {
    "ExecuteTime": {
     "end_time": "2019-07-11T15:06:10.285083Z",
     "start_time": "2019-07-11T15:06:10.155404Z"
    }
   },
   "outputs": [],
   "source": [
    "## Save your model's weights for future private prediction\n",
    "model.save('short-conv-mnist.h5')"
   ]
  },
  {
   "cell_type": "markdown",
   "metadata": {},
   "source": [
    "## Step 2: Load and Serve the Model"
   ]
  },
  {
   "cell_type": "markdown",
   "metadata": {},
   "source": [
    "Now that you have a trained model with normal Keras, you are ready to serve some private predictions. We can do that using Syft Keras.\n",
    "\n",
    "To secure and serve this model, we will need three TFEWorkers (servers). This is because TF Encrypted under the hood uses an encryption technique called [multi-party computation (MPC)](https://en.wikipedia.org/wiki/Secure_multi-party_computation). The idea is to split the model weights and input data into shares, then send a share of each value to the different servers. The key property is that if you look at the share on one server, it reveals nothing about the original value (input data or model weights).\n",
    "\n",
    "We'll define a Syft Keras model like we did in the previous notebook. However, there is a trick: before instantiating this model, we'll run `hook = sy.KerasHook(tf.keras)`. This will add three important new methods to the Keras Sequential class:\n",
    " - `share`: will secure your model via secret sharing; by default, it will use the SecureNN protocol from TF Encrypted to secret share your model between each of the three TFEWorkers. Most importantly, this will add the capability of providing predictions on encrypted data.\n",
    " - `serve`: this function will launch a serving queue, so that the TFEWorkers can can accept prediction requests on the secured model from external clients.\n",
    " - `shutdown_workers`: once you are done providing private predictions, you can shut down your model by running this function. It will direct you to shutdown the server processes manually if you've opted to manually manage each worker.\n",
    "\n",
    "If you want learn more about MPC, you can read this excellent [blog](https://mortendahl.github.io/2017/04/17/private-deep-learning-with-mpc/)."
   ]
  },
  {
   "cell_type": "code",
   "execution_count": 59,
   "metadata": {
    "ExecuteTime": {
     "end_time": "2019-07-11T15:06:10.295058Z",
     "start_time": "2019-07-11T15:06:10.288076Z"
    }
   },
   "outputs": [],
   "source": [
    "import numpy as np\n",
    "import tensorflow as tf\n",
    "from tensorflow.keras import Sequential\n",
    "from tensorflow.keras.layers import AveragePooling2D, Conv2D, Dense, Activation, Flatten, ReLU, Activation\n",
    "\n",
    "import syft as sy\n",
    "hook = sy.KerasHook(tf.keras)"
   ]
  },
  {
   "cell_type": "markdown",
   "metadata": {},
   "source": [
    "## Model\n",
    "\n",
    "As you can see, we define almost the exact same model as before, except we provide a `batch_input_shape`. This allows TF Encrypted to better optimize the secure computations via predefined tensor shapes. For this MNIST demo, we'll send input data with the shape of (1, 28, 28, 1). \n",
    "We also return the logit instead of softmax because this operation is complex to perform using MPC, and we don't need it to serve prediction requests."
   ]
  },
  {
   "cell_type": "code",
   "execution_count": 60,
   "metadata": {
    "ExecuteTime": {
     "end_time": "2019-07-11T15:06:10.405762Z",
     "start_time": "2019-07-11T15:06:10.297053Z"
    }
   },
   "outputs": [],
   "source": [
    "num_classes = 10\n",
    "input_shape = (1, 28, 28, 1)\n",
    "\n",
    "model = Sequential()\n",
    "\n",
    "model.add(Conv2D(10, (3, 3), batch_input_shape=input_shape))\n",
    "model.add(AveragePooling2D((2, 2)))\n",
    "model.add(Activation('relu'))\n",
    "model.add(Conv2D(32, (3, 3)))\n",
    "model.add(AveragePooling2D((2, 2)))\n",
    "model.add(Activation('relu'))\n",
    "model.add(Conv2D(64, (3, 3)))\n",
    "model.add(AveragePooling2D((2, 2)))\n",
    "model.add(Activation('relu'))\n",
    "model.add(Flatten())\n",
    "model.add(Dense(num_classes, name=\"logit\"))"
   ]
  },
  {
   "cell_type": "markdown",
   "metadata": {},
   "source": [
    "### Load Pre-trained Weights\n",
    "\n",
    "With `load_weights` you can easily load the weights you have saved previously after training your model."
   ]
  },
  {
   "cell_type": "code",
   "execution_count": 61,
   "metadata": {
    "ExecuteTime": {
     "end_time": "2019-07-11T15:06:10.518505Z",
     "start_time": "2019-07-11T15:06:10.407756Z"
    }
   },
   "outputs": [],
   "source": [
    "pre_trained_weights = 'short-conv-mnist.h5'\n",
    "model.load_weights(pre_trained_weights)"
   ]
  },
  {
   "cell_type": "markdown",
   "metadata": {},
   "source": [
    "## Step 3: Setup Your Worker Connectors\n",
    "\n",
    "Let's now connect to the TFEWorkers (`alice`, `bob`, and `carol`) required by TF Encrypted to perform private predictions. For each TFEWorker, you just have to specify a host.\n",
    "\n",
    "These workers run a [TensorFlow server](https://www.tensorflow.org/api_docs/python/tf/distribute/Server), which you can either manage manually (`AUTO = False`) or ask the workers to manage for you (`AUTO = True`). If choosing to manually manage them, you will be instructed to execute a terminal command on each worker's host device after calling `model.share()` below.  If all workers are hosted on a single device (e.g. `localhost`), you can choose to have Syft automatically manage the worker's TensorFlow server."
   ]
  },
  {
   "cell_type": "code",
   "execution_count": 62,
   "metadata": {
    "ExecuteTime": {
     "end_time": "2019-07-11T15:06:10.524444Z",
     "start_time": "2019-07-11T15:06:10.519457Z"
    }
   },
   "outputs": [],
   "source": [
    "AUTO = True\n",
    "\n",
    "alice = sy.TFEWorker(host='localhost:4010', auto_managed=AUTO)\n",
    "bob = sy.TFEWorker(host='localhost:4011', auto_managed=AUTO)\n",
    "carol = sy.TFEWorker(host='localhost:4012', auto_managed=AUTO)"
   ]
  },
  {
   "cell_type": "markdown",
   "metadata": {},
   "source": [
    "## Step 4: Split the Model Into Shares\n",
    "\n",
    "Thanks to `sy.KerasHook(tf.keras)` you can call the `share` method to transform your model into a TF Encrypted Keras model.\n",
    "\n",
    "If you have asked to manually manage servers above then this step will not complete until they have all been launched. Note that your firewall may ask for Python to accept incoming connection."
   ]
  },
  {
   "cell_type": "code",
   "execution_count": 63,
   "metadata": {
    "ExecuteTime": {
     "end_time": "2019-07-11T15:06:19.694310Z",
     "start_time": "2019-07-11T15:06:13.621105Z"
    }
   },
   "outputs": [
    {
     "name": "stderr",
     "output_type": "stream",
     "text": [
      "INFO:tf_encrypted:Starting session on target 'grpc://localhost:4010' using config graph_options {\n",
      "}\n",
      "\n"
     ]
    }
   ],
   "source": [
    "model.share(alice, bob, carol)"
   ]
  },
  {
   "cell_type": "markdown",
   "metadata": {},
   "source": [
    "## Step 5: Launch 3 Servers\n",
    "\n",
    "```\n",
    "python -m tf_encrypted.player --config /tmp/tfe.config server0\n",
    "python -m tf_encrypted.player --config /tmp/tfe.config server1\n",
    "python -m tf_encrypted.player --config /tmp/tfe.config server2```"
   ]
  },
  {
   "cell_type": "markdown",
   "metadata": {},
   "source": [
    "## Step 6: Serve the Model\n",
    "\n",
    "Perfect! Now by calling `model.serve`, your model is ready to provide some private predictions. You can set `num_requests` to set a limit on the number of predictions requests served by the model; if not specified then the model will be served until interrupted."
   ]
  },
  {
   "cell_type": "code",
   "execution_count": 64,
   "metadata": {
    "ExecuteTime": {
     "end_time": "2019-07-11T15:06:58.255325Z",
     "start_time": "2019-07-11T15:06:19.697303Z"
    }
   },
   "outputs": [
    {
     "name": "stdout",
     "output_type": "stream",
     "text": [
      "Served encrypted prediction 1 to client.\n",
      "Served encrypted prediction 2 to client.\n",
      "Served encrypted prediction 3 to client.\n"
     ]
    }
   ],
   "source": [
    "model.serve(num_requests=3)"
   ]
  },
  {
   "cell_type": "markdown",
   "metadata": {},
   "source": [
    "## Step 7: Run the Client\n",
    "\n",
    "At this point open up and run the companion notebook: Section 4b - Encrytped Keras Client"
   ]
  },
  {
   "cell_type": "markdown",
   "metadata": {},
   "source": [
    "## Step 8: Shutdown the Servers\n",
    "\n",
    "Once your request limit above, the model will no longer be available for serving requests, but it's still secret shared between the three workers above. You can kill the workers by executing the cell below.\n",
    "\n",
    "**Congratulations** on finishing Part 12: Secure Classification with Syft Keras and TFE!"
   ]
  },
  {
   "cell_type": "code",
   "execution_count": 65,
   "metadata": {
    "ExecuteTime": {
     "end_time": "2019-07-11T15:05:06.230888Z",
     "start_time": "2019-07-11T15:05:04.134078Z"
    }
   },
   "outputs": [
    {
     "name": "stderr",
     "output_type": "stream",
     "text": [
      "INFO:tf_encrypted:Please terminate the process on host 'localhost:4010'.\n",
      "INFO:tf_encrypted:Please terminate the process on host 'localhost:4011'.\n",
      "INFO:tf_encrypted:Please terminate the process on host 'localhost:4012'.\n"
     ]
    }
   ],
   "source": [
    "model.shutdown_workers()\n",
    "\n",
    "if not AUTO:\n",
    "    process_ids = !ps aux | grep '[p]ython -m tf_encrypted.player --config /tmp/tfe.config' | awk '{print $2}'\n",
    "    for process_id in process_ids:\n",
    "        !kill {process_id}\n",
    "        print(\"Process ID {id} has been killed.\".format(id=process_id))"
   ]
  },
  {
   "cell_type": "markdown",
   "metadata": {},
   "source": [
    "# Keystone Project - Mix and Match What You've Learned\n",
    "\n",
    "Description: Take two of the concepts you've learned about in this course (Encrypted Computation, Federated Learning, Differential Privacy) and combine them for a use case of your own design. Extra credit if you can get your demo working with [WebSocketWorkers](https://github.com/OpenMined/PySyft/tree/dev/examples/tutorials/advanced/websockets-example-MNIST) instead of VirtualWorkers! Then take your demo or example application, write a blogpost, and share that blogpost in #general-discussion on OpenMined's slack!!!\n",
    "\n",
    "Inspiration:\n",
    "- This Course's Code: https://github.com/Udacity/private-ai\n",
    "- OpenMined's Tutorials: https://github.com/OpenMined/PySyft/tree/dev/examples/tutorials\n",
    "- OpenMined's Blog: https://blog.openmined.org"
   ]
  },
  {
   "cell_type": "code",
   "execution_count": null,
   "metadata": {},
   "outputs": [],
   "source": []
  },
  {
   "cell_type": "code",
   "execution_count": null,
   "metadata": {},
   "outputs": [],
   "source": []
  },
  {
   "cell_type": "code",
   "execution_count": null,
   "metadata": {},
   "outputs": [],
   "source": []
  },
  {
   "cell_type": "code",
   "execution_count": null,
   "metadata": {},
   "outputs": [],
   "source": []
  },
  {
   "cell_type": "code",
   "execution_count": null,
   "metadata": {},
   "outputs": [],
   "source": []
  },
  {
   "cell_type": "code",
   "execution_count": null,
   "metadata": {},
   "outputs": [],
   "source": []
  },
  {
   "cell_type": "code",
   "execution_count": null,
   "metadata": {},
   "outputs": [],
   "source": []
  },
  {
   "cell_type": "code",
   "execution_count": null,
   "metadata": {},
   "outputs": [],
   "source": []
  },
  {
   "cell_type": "code",
   "execution_count": null,
   "metadata": {},
   "outputs": [],
   "source": []
  },
  {
   "cell_type": "code",
   "execution_count": null,
   "metadata": {},
   "outputs": [],
   "source": []
  },
  {
   "cell_type": "code",
   "execution_count": null,
   "metadata": {},
   "outputs": [],
   "source": []
  },
  {
   "cell_type": "code",
   "execution_count": null,
   "metadata": {},
   "outputs": [],
   "source": []
  },
  {
   "cell_type": "code",
   "execution_count": null,
   "metadata": {},
   "outputs": [],
   "source": []
  },
  {
   "cell_type": "code",
   "execution_count": null,
   "metadata": {},
   "outputs": [],
   "source": []
  },
  {
   "cell_type": "code",
   "execution_count": null,
   "metadata": {},
   "outputs": [],
   "source": []
  },
  {
   "cell_type": "code",
   "execution_count": null,
   "metadata": {},
   "outputs": [],
   "source": []
  },
  {
   "cell_type": "code",
   "execution_count": null,
   "metadata": {},
   "outputs": [],
   "source": []
  },
  {
   "cell_type": "code",
   "execution_count": null,
   "metadata": {},
   "outputs": [],
   "source": []
  },
  {
   "cell_type": "code",
   "execution_count": null,
   "metadata": {},
   "outputs": [],
   "source": []
  }
 ],
 "metadata": {
  "kernelspec": {
   "display_name": "Python 3",
   "language": "python",
   "name": "python3"
  },
  "language_info": {
   "codemirror_mode": {
    "name": "ipython",
    "version": 3
   },
   "file_extension": ".py",
   "mimetype": "text/x-python",
   "name": "python",
   "nbconvert_exporter": "python",
   "pygments_lexer": "ipython3",
   "version": "3.7.3"
  },
  "toc": {
   "base_numbering": 1,
   "nav_menu": {},
   "number_sections": true,
   "sideBar": true,
   "skip_h1_title": false,
   "title_cell": "Table of Contents",
   "title_sidebar": "Contents",
   "toc_cell": false,
   "toc_position": {},
   "toc_section_display": true,
   "toc_window_display": false
  }
 },
 "nbformat": 4,
 "nbformat_minor": 2
}
